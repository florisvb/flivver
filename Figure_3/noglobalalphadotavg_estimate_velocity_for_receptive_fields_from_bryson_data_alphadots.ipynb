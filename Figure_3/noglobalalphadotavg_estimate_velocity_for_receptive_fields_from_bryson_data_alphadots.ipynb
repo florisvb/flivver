{
 "cells": [
  {
   "cell_type": "code",
   "execution_count": 1,
   "metadata": {},
   "outputs": [
    {
     "name": "stderr",
     "output_type": "stream",
     "text": [
      "/home/caveman/BMD2/lib/python3.5/site-packages/tensorflow/python/framework/dtypes.py:523: FutureWarning: Passing (type, 1) or '1type' as a synonym of type is deprecated; in a future version of numpy, it will be understood as (type, (1,)) / '(1,)type'.\n",
      "  _np_qint8 = np.dtype([(\"qint8\", np.int8, 1)])\n",
      "/home/caveman/BMD2/lib/python3.5/site-packages/tensorflow/python/framework/dtypes.py:524: FutureWarning: Passing (type, 1) or '1type' as a synonym of type is deprecated; in a future version of numpy, it will be understood as (type, (1,)) / '(1,)type'.\n",
      "  _np_quint8 = np.dtype([(\"quint8\", np.uint8, 1)])\n",
      "/home/caveman/BMD2/lib/python3.5/site-packages/tensorflow/python/framework/dtypes.py:525: FutureWarning: Passing (type, 1) or '1type' as a synonym of type is deprecated; in a future version of numpy, it will be understood as (type, (1,)) / '(1,)type'.\n",
      "  _np_qint16 = np.dtype([(\"qint16\", np.int16, 1)])\n",
      "/home/caveman/BMD2/lib/python3.5/site-packages/tensorflow/python/framework/dtypes.py:526: FutureWarning: Passing (type, 1) or '1type' as a synonym of type is deprecated; in a future version of numpy, it will be understood as (type, (1,)) / '(1,)type'.\n",
      "  _np_quint16 = np.dtype([(\"quint16\", np.uint16, 1)])\n",
      "/home/caveman/BMD2/lib/python3.5/site-packages/tensorflow/python/framework/dtypes.py:527: FutureWarning: Passing (type, 1) or '1type' as a synonym of type is deprecated; in a future version of numpy, it will be understood as (type, (1,)) / '(1,)type'.\n",
      "  _np_qint32 = np.dtype([(\"qint32\", np.int32, 1)])\n",
      "/home/caveman/BMD2/lib/python3.5/site-packages/tensorflow/python/framework/dtypes.py:532: FutureWarning: Passing (type, 1) or '1type' as a synonym of type is deprecated; in a future version of numpy, it will be understood as (type, (1,)) / '(1,)type'.\n",
      "  np_resource = np.dtype([(\"resource\", np.ubyte, 1)])\n"
     ]
    }
   ],
   "source": [
    "import numpy as np\n",
    "import matplotlib.pyplot as plt\n",
    "from scipy.ndimage.interpolation import rotate\n",
    "import __kalman_smooth__\n",
    "import copy\n",
    "import pynumdiff\n",
    "\n",
    "import figurefirst as fifi\n",
    "import os\n",
    "\n",
    "import pickle\n",
    "\n",
    "import scipy.stats\n",
    "import scipy.ndimage\n",
    "\n",
    "import pandas"
   ]
  },
  {
   "cell_type": "code",
   "execution_count": 5,
   "metadata": {},
   "outputs": [],
   "source": [
    "data_directory = 'FLIVVER_DATA/figures_3_and_4'"
   ]
  },
  {
   "cell_type": "code",
   "execution_count": 6,
   "metadata": {},
   "outputs": [],
   "source": [
    "results_directory = 'noglobalalphadotavg_vel_ests_for_rfs_nonoise_squareafteravg'"
   ]
  },
  {
   "cell_type": "code",
   "execution_count": null,
   "metadata": {},
   "outputs": [],
   "source": [
    "alphadot_signed = pandas.read_hdf(os.path.join(data_directory, 'alphadot_signed.hdf'))\n",
    "#alphadot_x = pandas.read_hdf(os.path.join(data_directory, 'alphadot_x.hdf'))\n",
    "#alphadot_y = pandas.read_hdf(os.path.join(data_directory, 'alphadot_y.hdf'))"
   ]
  },
  {
   "cell_type": "code",
   "execution_count": null,
   "metadata": {},
   "outputs": [],
   "source": []
  },
  {
   "cell_type": "code",
   "execution_count": 6,
   "metadata": {},
   "outputs": [],
   "source": [
    "frames = alphadot_signed[0].keys().levels[0]"
   ]
  },
  {
   "cell_type": "code",
   "execution_count": 7,
   "metadata": {},
   "outputs": [],
   "source": [
    "alphadot_meta = pandas.read_hdf(os.path.join(data_directory, 'alphadot_meta.hdf'))"
   ]
  },
  {
   "cell_type": "code",
   "execution_count": 8,
   "metadata": {},
   "outputs": [],
   "source": [
    "alphas_x = alphadot_meta.xs('alphas_x')\n",
    "alphas_y = alphadot_meta.xs('alphas_y')\n",
    "alphas_epi = alphadot_meta.xs('alphas_epi')"
   ]
  },
  {
   "cell_type": "code",
   "execution_count": 9,
   "metadata": {},
   "outputs": [],
   "source": [
    "vel_accel_time = pandas.read_hdf(os.path.join(data_directory, 'vel_accel_time.hdf'))"
   ]
  },
  {
   "cell_type": "code",
   "execution_count": 10,
   "metadata": {},
   "outputs": [],
   "source": [
    "dt = vel_accel_time.xs('dt').values[0,0]\n",
    "scaling = vel_accel_time.xs('scaling').values[0,0] \n",
    "t = vel_accel_time.xs('time').values[:,0]\n",
    "\n",
    "#a_smooth = vel_accel_time.xs('accel_smooth').values[:,0]\n",
    "a_smooth = vel_accel_time.xs('accel_smooth_1').values[:,0]\n",
    "\n",
    "\n",
    "v_true = vel_accel_time.xs('velocity_true').values[:,0]\n",
    "alphadot_sign = vel_accel_time.xs('sign_alphadot').values[:,0]"
   ]
  },
  {
   "cell_type": "code",
   "execution_count": 12,
   "metadata": {},
   "outputs": [],
   "source": [
    "add_noise = False\n",
    "square_after_average = True"
   ]
  },
  {
   "cell_type": "markdown",
   "metadata": {},
   "source": [
    "# Receptive Fields"
   ]
  },
  {
   "cell_type": "code",
   "execution_count": 13,
   "metadata": {},
   "outputs": [],
   "source": [
    "def get_receptive_field_for_straight_line(alpha_y, y_width, alpha_x, x_width, alphas_epi, center_x=0, center_y=0):\n",
    "    idx1 = np.where( (np.abs(alphas_y-alpha_y)<y_width) & (np.abs(alphas_x-alpha_x)<x_width) )\n",
    "    mf = np.zeros_like(alphas_epi)\n",
    "    mf[idx1] = 1\n",
    "    return mf"
   ]
  },
  {
   "cell_type": "code",
   "execution_count": 14,
   "metadata": {},
   "outputs": [],
   "source": [
    "def plot_receptive_field(mf, label='figr', ax=None):\n",
    "    if ax is None:\n",
    "        fig = plt.figure()\n",
    "        ax = fig.add_subplot(111)\n",
    "    \n",
    "    ax.imshow(mf, cmap='bone')"
   ]
  },
  {
   "cell_type": "markdown",
   "metadata": {},
   "source": [
    "#### An example"
   ]
  },
  {
   "cell_type": "code",
   "execution_count": 15,
   "metadata": {},
   "outputs": [],
   "source": [
    "alpha_y = 5*np.pi/180. # radians\n",
    "y_width = 10*np.pi/180.\n",
    "alpha_x = -5*np.pi/180.\n",
    "x_width = 10*np.pi/180.\n",
    "mf = get_receptive_field_for_straight_line(alpha_y, y_width, alpha_x, x_width, alphas_epi)"
   ]
  },
  {
   "cell_type": "code",
   "execution_count": 16,
   "metadata": {},
   "outputs": [
    {
     "data": {
      "image/png": "[encoded data removed]",
      "text/plain": [
       "<Figure size 432x288 with 1 Axes>"
      ]
     },
     "metadata": {},
     "output_type": "display_data"
    }
   ],
   "source": [
    "plot_receptive_field(mf)"
   ]
  },
  {
   "cell_type": "markdown",
   "metadata": {},
   "source": [
    "# v over a for receptive field from alphadot"
   ]
  },
  {
   "cell_type": "code",
   "execution_count": null,
   "metadata": {},
   "outputs": [],
   "source": []
  },
  {
   "cell_type": "code",
   "execution_count": 17,
   "metadata": {},
   "outputs": [],
   "source": [
    "def get_alphadot_window_and_dot(rf, alphadot_signed, square_after_average=True, nth_frame=1, first_frame=0):\n",
    "    frames = alphadot_signed[0].keys().levels[0][first_frame::nth_frame]\n",
    "    params = [2, 0.04]\n",
    "    dtof = 0.0333333\n",
    "    \n",
    "    if add_noise:\n",
    "        def noise(f):\n",
    "            return np.random.normal(0, 0.5, alphadot_signed.xs(f).values.shape)\n",
    "    else:\n",
    "        def noise(f):\n",
    "            return 0\n",
    "    \n",
    "    if square_after_average:\n",
    "        alphadot_window = [ np.nansum( (alphadot_signed.xs(f).values+noise(f))*rf) / np.nansum(rf) for f in frames]\n",
    "        alphadot_window = np.array(alphadot_window)\n",
    "        \n",
    "        alphadot_window_smooth, alphadot_window_dot = \\\n",
    "            pynumdiff.smooth_finite_difference.butterdiff(alphadot_window, dt*nth_frame, params)\n",
    "        alphadot_window_smooth_sq = alphadot_window_smooth**2\n",
    "        \n",
    "    else:\n",
    "        alphadot_window = [ np.nansum( (alphadot_signed.xs(f).values+noise(f))*rf) / np.nansum(rf) for f in frames]\n",
    "        alphadot_window = np.array(alphadot_window)\n",
    "        alphadot_window_smooth, alphadot_window_dot = \\\n",
    "            pynumdiff.smooth_finite_difference.butterdiff(alphadot_window, dt*nth_frame, params)\n",
    "        \n",
    "        alphadot_window_sq = [ np.nansum( ((alphadot_signed.xs(f).values+noise(f))*rf / np.nansum(rf))**2) for f in frames]\n",
    "        alphadot_window_sq = np.array(alphadot_window_sq)\n",
    "        alphadot_window_smooth_sq, _ = \\\n",
    "            pynumdiff.smooth_finite_difference.butterdiff(alphadot_window_sq, dt*nth_frame, params)\n",
    "        \n",
    "    return alphadot_window_smooth, alphadot_window_dot, alphadot_window_smooth_sq\n",
    "\n",
    "def get_v_over_a_for_rf_from_alphadot(rf, alphadot, alphas_epi, alphadot_sign, square_after_average=True, \n",
    "                                      nth_frame=1, first_frame=0):\n",
    "    \n",
    "    #rf[np.where(rf==0)] = np.nan\n",
    "    csa = np.abs( np.nansum(np.sin( np.abs(alphas_epi)*rf)*np.cos( np.abs(alphas_epi)*rf)) ) / np.nansum(rf)\n",
    "    \n",
    "    alphadot_window_smooth, alphadot_window_dot, alphadot_window_smooth_sq = \\\n",
    "        get_alphadot_window_and_dot(rf, alphadot, square_after_average=square_after_average, nth_frame=nth_frame,\n",
    "                                    first_frame=first_frame)\n",
    "    \n",
    "    v_over_a = -1*alphadot_window_smooth*csa / (alphadot_window_smooth_sq - alphadot_window_dot*csa)\n",
    "    v_over_a = np.abs(v_over_a)*np.sign(alphadot_window_smooth) #*alphadot_sign[first_frame::nth_frame]\n",
    "        \n",
    "    return v_over_a, alphadot_window_smooth, alphadot_window_dot\n",
    "\n",
    "def get_v_est_for_rf_from_alphadot(rf, alphadot, alphas_epi, alphadot_sign, a_smooth, scaling, \n",
    "                                   square_after_average=True, nth_frame=1, first_frame=0):\n",
    "    v_over_a, alphadot_window_smooth, alphadot_window_dot = \\\n",
    "        get_v_over_a_for_rf_from_alphadot(rf, alphadot, alphas_epi, alphadot_sign, \n",
    "                                          square_after_average=square_after_average, nth_frame=nth_frame,\n",
    "                                          first_frame=first_frame)\n",
    "    v_est = np.abs(a_smooth[first_frame::nth_frame])*v_over_a #*alphadot_signed[first_frame::nth_frame]\n",
    "    return v_est"
   ]
  },
  {
   "cell_type": "code",
   "execution_count": null,
   "metadata": {},
   "outputs": [],
   "source": []
  },
  {
   "cell_type": "markdown",
   "metadata": {},
   "source": [
    "#### Example"
   ]
  },
  {
   "cell_type": "code",
   "execution_count": 18,
   "metadata": {},
   "outputs": [
    {
     "data": {
      "image/png": "[encoded data removed]",
      "text/plain": [
       "<Figure size 432x288 with 1 Axes>"
      ]
     },
     "metadata": {},
     "output_type": "display_data"
    }
   ],
   "source": [
    "alpha_y = -15*np.pi/180.\n",
    "y_width = 20*np.pi/180.\n",
    "alpha_x = 15*np.pi/180.\n",
    "x_width = 20*np.pi/180.\n",
    "\n",
    "rf = get_receptive_field_for_straight_line(alpha_y, y_width, alpha_x, x_width, alphas_epi)\n",
    "\n",
    "figr = 'fig1'\n",
    "plot_receptive_field(rf)"
   ]
  },
  {
   "cell_type": "code",
   "execution_count": 19,
   "metadata": {},
   "outputs": [
    {
     "name": "stderr",
     "output_type": "stream",
     "text": [
      "/home/caveman/BMD2/lib/python3.5/site-packages/scipy-1.1.0-py3.5-linux-x86_64.egg/scipy/signal/_arraytools.py:45: FutureWarning: Using a non-tuple sequence for multidimensional indexing is deprecated; use `arr[tuple(seq)]` instead of `arr[seq]`. In the future this will be interpreted as an array index, `arr[np.array(seq)]`, which will result either in an error or a different result.\n",
      "  b = a[a_slice]\n"
     ]
    }
   ],
   "source": [
    "v_est = get_v_est_for_rf_from_alphadot(rf, alphadot_signed, alphas_epi, alphadot_sign, a_smooth, scaling)"
   ]
  },
  {
   "cell_type": "code",
   "execution_count": 20,
   "metadata": {},
   "outputs": [
    {
     "data": {
      "text/plain": [
       "[<matplotlib.lines.Line2D at 0x7f68b99bab70>]"
      ]
     },
     "execution_count": 20,
     "metadata": {},
     "output_type": "execute_result"
    },
    {
     "data": {
      "image/png": "[encoded data removed]",
      "text/plain": [
       "<Figure size 432x288 with 1 Axes>"
      ]
     },
     "metadata": {},
     "output_type": "display_data"
    }
   ],
   "source": [
    "plt.plot(t, v_est, '.', color='blue')\n",
    "plt.ylim(-1,1)\n",
    "plt.plot(t, v_true, color='red')"
   ]
  },
  {
   "cell_type": "code",
   "execution_count": 21,
   "metadata": {},
   "outputs": [],
   "source": [
    "mean_alphadots = [np.mean(np.abs(alphadot_signed.xs(f)).values) for f in range(len(alphadot_sign))]"
   ]
  },
  {
   "cell_type": "code",
   "execution_count": 22,
   "metadata": {},
   "outputs": [
    {
     "data": {
      "text/plain": [
       "[<matplotlib.lines.Line2D at 0x7f68b998ef60>]"
      ]
     },
     "execution_count": 22,
     "metadata": {},
     "output_type": "execute_result"
    },
    {
     "data": {
      "image/png": "[encoded data removed]",
      "text/plain": [
       "<Figure size 432x288 with 1 Axes>"
      ]
     },
     "metadata": {},
     "output_type": "display_data"
    }
   ],
   "source": [
    "plt.plot(mean_alphadots)"
   ]
  },
  {
   "cell_type": "code",
   "execution_count": 23,
   "metadata": {},
   "outputs": [
    {
     "data": {
      "text/plain": [
       "0.06143988994786264"
      ]
     },
     "execution_count": 23,
     "metadata": {},
     "output_type": "execute_result"
    }
   ],
   "source": [
    "np.mean(mean_alphadots)"
   ]
  },
  {
   "cell_type": "code",
   "execution_count": null,
   "metadata": {},
   "outputs": [],
   "source": []
  },
  {
   "cell_type": "code",
   "execution_count": null,
   "metadata": {},
   "outputs": [],
   "source": []
  },
  {
   "cell_type": "markdown",
   "metadata": {},
   "source": [
    "# For many windows"
   ]
  },
  {
   "cell_type": "code",
   "execution_count": 24,
   "metadata": {
    "code_folding": []
   },
   "outputs": [
    {
     "name": "stdout",
     "output_type": "stream",
     "text": [
      "0.078125 -15 -15\n"
     ]
    },
    {
     "name": "stderr",
     "output_type": "stream",
     "text": [
      "/home/caveman/BMD2/lib/python3.5/site-packages/scipy-1.1.0-py3.5-linux-x86_64.egg/scipy/signal/_arraytools.py:45: FutureWarning: Using a non-tuple sequence for multidimensional indexing is deprecated; use `arr[tuple(seq)]` instead of `arr[seq]`. In the future this will be interpreted as an array index, `arr[np.array(seq)]`, which will result either in an error or a different result.\n",
      "  b = a[a_slice]\n"
     ]
    },
    {
     "name": "stdout",
     "output_type": "stream",
     "text": [
      "0.078125 -15 -10\n",
      "0.078125 -15 -5\n",
      "0.078125 -15 0\n",
      "0.078125 -15 5\n",
      "0.078125 -15 10\n",
      "0.078125 -15 15\n",
      "0.078125 -10 -15\n",
      "0.078125 -10 -10\n",
      "0.078125 -10 -5\n",
      "0.078125 -10 0\n",
      "0.078125 -10 5\n",
      "0.078125 -10 10\n",
      "0.078125 -10 15\n",
      "0.078125 -5 -15\n",
      "0.078125 -5 -10\n",
      "0.078125 -5 -5\n",
      "0.078125 -5 0\n",
      "0.078125 -5 5\n",
      "0.078125 -5 10\n",
      "0.078125 -5 15\n",
      "0.078125 0 -15\n",
      "0.078125 0 -10\n",
      "0.078125 0 -5\n",
      "0.078125 0 0\n",
      "0.078125 0 5\n",
      "0.078125 0 10\n",
      "0.078125 0 15\n",
      "0.078125 5 -15\n",
      "0.078125 5 -10\n",
      "0.078125 5 -5\n",
      "0.078125 5 0\n",
      "0.078125 5 5\n",
      "0.078125 5 10\n",
      "0.078125 5 15\n",
      "0.078125 10 -15\n",
      "0.078125 10 -10\n",
      "0.078125 10 -5\n",
      "0.078125 10 0\n",
      "0.078125 10 5\n",
      "0.078125 10 10\n",
      "0.078125 10 15\n",
      "0.078125 15 -15\n",
      "0.078125 15 -10\n",
      "0.078125 15 -5\n",
      "0.078125 15 0\n",
      "0.078125 15 5\n",
      "0.078125 15 10\n",
      "0.078125 15 15\n",
      "0.3125 -15 -15\n",
      "0.3125 -15 -10\n",
      "0.3125 -15 -5\n",
      "0.3125 -15 0\n",
      "0.3125 -15 5\n",
      "0.3125 -15 10\n",
      "0.3125 -15 15\n",
      "0.3125 -10 -15\n",
      "0.3125 -10 -10\n",
      "0.3125 -10 -5\n",
      "0.3125 -10 0\n",
      "0.3125 -10 5\n",
      "0.3125 -10 10\n",
      "0.3125 -10 15\n",
      "0.3125 -5 -15\n",
      "0.3125 -5 -10\n",
      "0.3125 -5 -5\n",
      "0.3125 -5 0\n",
      "0.3125 -5 5\n",
      "0.3125 -5 10\n",
      "0.3125 -5 15\n",
      "0.3125 0 -15\n",
      "0.3125 0 -10\n",
      "0.3125 0 -5\n",
      "0.3125 0 0\n",
      "0.3125 0 5\n",
      "0.3125 0 10\n",
      "0.3125 0 15\n",
      "0.3125 5 -15\n",
      "0.3125 5 -10\n",
      "0.3125 5 -5\n",
      "0.3125 5 0\n",
      "0.3125 5 5\n",
      "0.3125 5 10\n",
      "0.3125 5 15\n",
      "0.3125 10 -15\n",
      "0.3125 10 -10\n",
      "0.3125 10 -5\n",
      "0.3125 10 0\n",
      "0.3125 10 5\n",
      "0.3125 10 10\n",
      "0.3125 10 15\n",
      "0.3125 15 -15\n",
      "0.3125 15 -10\n",
      "0.3125 15 -5\n",
      "0.3125 15 0\n",
      "0.3125 15 5\n",
      "0.3125 15 10\n",
      "0.3125 15 15\n",
      "2.5 -15 -15\n",
      "2.5 -15 -10\n",
      "2.5 -15 -5\n",
      "2.5 -15 0\n",
      "2.5 -15 5\n",
      "2.5 -15 10\n",
      "2.5 -15 15\n",
      "2.5 -10 -15\n",
      "2.5 -10 -10\n",
      "2.5 -10 -5\n",
      "2.5 -10 0\n",
      "2.5 -10 5\n",
      "2.5 -10 10\n",
      "2.5 -10 15\n",
      "2.5 -5 -15\n",
      "2.5 -5 -10\n",
      "2.5 -5 -5\n",
      "2.5 -5 0\n",
      "2.5 -5 5\n",
      "2.5 -5 10\n",
      "2.5 -5 15\n",
      "2.5 0 -15\n",
      "2.5 0 -10\n",
      "2.5 0 -5\n",
      "2.5 0 0\n",
      "2.5 0 5\n",
      "2.5 0 10\n",
      "2.5 0 15\n",
      "2.5 5 -15\n",
      "2.5 5 -10\n",
      "2.5 5 -5\n",
      "2.5 5 0\n",
      "2.5 5 5\n",
      "2.5 5 10\n",
      "2.5 5 15\n",
      "2.5 10 -15\n",
      "2.5 10 -10\n",
      "2.5 10 -5\n",
      "2.5 10 0\n",
      "2.5 10 5\n",
      "2.5 10 10\n",
      "2.5 10 15\n",
      "2.5 15 -15\n",
      "2.5 15 -10\n",
      "2.5 15 -5\n",
      "2.5 15 0\n",
      "2.5 15 5\n",
      "2.5 15 10\n",
      "2.5 15 15\n",
      "5 -15 -15\n",
      "5 -15 -10\n",
      "5 -15 -5\n",
      "5 -15 0\n",
      "5 -15 5\n",
      "5 -15 10\n",
      "5 -15 15\n",
      "5 -10 -15\n",
      "5 -10 -10\n",
      "5 -10 -5\n",
      "5 -10 0\n",
      "5 -10 5\n",
      "5 -10 10\n",
      "5 -10 15\n",
      "5 -5 -15\n",
      "5 -5 -10\n",
      "5 -5 -5\n",
      "5 -5 0\n",
      "5 -5 5\n",
      "5 -5 10\n",
      "5 -5 15\n",
      "5 0 -15\n",
      "5 0 -10\n",
      "5 0 -5\n",
      "5 0 0\n",
      "5 0 5\n",
      "5 0 10\n",
      "5 0 15\n",
      "5 5 -15\n",
      "5 5 -10\n",
      "5 5 -5\n",
      "5 5 0\n",
      "5 5 5\n",
      "5 5 10\n",
      "5 5 15\n",
      "5 10 -15\n",
      "5 10 -10\n",
      "5 10 -5\n",
      "5 10 0\n",
      "5 10 5\n",
      "5 10 10\n",
      "5 10 15\n",
      "5 15 -15\n",
      "5 15 -10\n",
      "5 15 -5\n",
      "5 15 0\n",
      "5 15 5\n",
      "5 15 10\n",
      "5 15 15\n",
      "10 -15 -15\n",
      "10 -15 -10\n",
      "10 -15 -5\n",
      "10 -15 0\n",
      "10 -15 5\n",
      "10 -15 10\n",
      "10 -15 15\n",
      "10 -10 -15\n",
      "10 -10 -10\n",
      "10 -10 -5\n",
      "10 -10 0\n",
      "10 -10 5\n",
      "10 -10 10\n",
      "10 -10 15\n",
      "10 -5 -15\n",
      "10 -5 -10\n",
      "10 -5 -5\n",
      "10 -5 0\n",
      "10 -5 5\n",
      "10 -5 10\n",
      "10 -5 15\n",
      "10 0 -15\n",
      "10 0 -10\n",
      "10 0 -5\n",
      "10 0 0\n",
      "10 0 5\n",
      "10 0 10\n",
      "10 0 15\n",
      "10 5 -15\n",
      "10 5 -10\n",
      "10 5 -5\n",
      "10 5 0\n",
      "10 5 5\n",
      "10 5 10\n",
      "10 5 15\n",
      "10 10 -15\n",
      "10 10 -10\n",
      "10 10 -5\n",
      "10 10 0\n",
      "10 10 5\n",
      "10 10 10\n",
      "10 10 15\n",
      "10 15 -15\n",
      "10 15 -10\n",
      "10 15 -5\n",
      "10 15 0\n",
      "10 15 5\n",
      "10 15 10\n",
      "10 15 15\n",
      "15 -15 -15\n",
      "15 -15 -10\n",
      "15 -15 -5\n",
      "15 -15 0\n",
      "15 -15 5\n",
      "15 -15 10\n",
      "15 -15 15\n",
      "15 -10 -15\n",
      "15 -10 -10\n",
      "15 -10 -5\n",
      "15 -10 0\n",
      "15 -10 5\n",
      "15 -10 10\n",
      "15 -10 15\n",
      "15 -5 -15\n",
      "15 -5 -10\n",
      "15 -5 -5\n",
      "15 -5 0\n",
      "15 -5 5\n",
      "15 -5 10\n",
      "15 -5 15\n",
      "15 0 -15\n",
      "15 0 -10\n",
      "15 0 -5\n",
      "15 0 0\n",
      "15 0 5\n",
      "15 0 10\n",
      "15 0 15\n",
      "15 5 -15\n",
      "15 5 -10\n",
      "15 5 -5\n",
      "15 5 0\n",
      "15 5 5\n",
      "15 5 10\n",
      "15 5 15\n",
      "15 10 -15\n",
      "15 10 -10\n",
      "15 10 -5\n",
      "15 10 0\n",
      "15 10 5\n",
      "15 10 10\n",
      "15 10 15\n",
      "15 15 -15\n",
      "15 15 -10\n",
      "15 15 -5\n",
      "15 15 0\n",
      "15 15 5\n",
      "15 15 10\n",
      "15 15 15\n",
      "20 -15 -15\n",
      "20 -15 -10\n",
      "20 -15 -5\n",
      "20 -15 0\n",
      "20 -15 5\n",
      "20 -15 10\n",
      "20 -15 15\n",
      "20 -10 -15\n",
      "20 -10 -10\n",
      "20 -10 -5\n",
      "20 -10 0\n",
      "20 -10 5\n",
      "20 -10 10\n",
      "20 -10 15\n",
      "20 -5 -15\n",
      "20 -5 -10\n",
      "20 -5 -5\n",
      "20 -5 0\n",
      "20 -5 5\n",
      "20 -5 10\n",
      "20 -5 15\n",
      "20 0 -15\n",
      "20 0 -10\n",
      "20 0 -5\n",
      "20 0 0\n",
      "20 0 5\n",
      "20 0 10\n",
      "20 0 15\n",
      "20 5 -15\n",
      "20 5 -10\n",
      "20 5 -5\n",
      "20 5 0\n",
      "20 5 5\n",
      "20 5 10\n",
      "20 5 15\n",
      "20 10 -15\n",
      "20 10 -10\n",
      "20 10 -5\n",
      "20 10 0\n",
      "20 10 5\n",
      "20 10 10\n",
      "20 10 15\n",
      "20 15 -15\n",
      "20 15 -10\n",
      "20 15 -5\n",
      "20 15 0\n",
      "20 15 5\n",
      "20 15 10\n",
      "20 15 15\n",
      "25 -15 -15\n",
      "25 -15 -10\n",
      "25 -15 -5\n",
      "25 -15 0\n",
      "25 -15 5\n",
      "25 -15 10\n",
      "25 -15 15\n",
      "25 -10 -15\n",
      "25 -10 -10\n",
      "25 -10 -5\n",
      "25 -10 0\n",
      "25 -10 5\n",
      "25 -10 10\n",
      "25 -10 15\n",
      "25 -5 -15\n",
      "25 -5 -10\n",
      "25 -5 -5\n",
      "25 -5 0\n",
      "25 -5 5\n",
      "25 -5 10\n",
      "25 -5 15\n",
      "25 0 -15\n",
      "25 0 -10\n",
      "25 0 -5\n",
      "25 0 0\n",
      "25 0 5\n",
      "25 0 10\n",
      "25 0 15\n",
      "25 5 -15\n",
      "25 5 -10\n",
      "25 5 -5\n",
      "25 5 0\n",
      "25 5 5\n",
      "25 5 10\n",
      "25 5 15\n",
      "25 10 -15\n",
      "25 10 -10\n",
      "25 10 -5\n",
      "25 10 0\n",
      "25 10 5\n",
      "25 10 10\n",
      "25 10 15\n",
      "25 15 -15\n",
      "25 15 -10\n",
      "25 15 -5\n",
      "25 15 0\n",
      "25 15 5\n",
      "25 15 10\n",
      "25 15 15\n",
      "30 -15 -15\n",
      "30 -15 -10\n",
      "30 -15 -5\n",
      "30 -15 0\n",
      "30 -15 5\n",
      "30 -15 10\n",
      "30 -15 15\n",
      "30 -10 -15\n",
      "30 -10 -10\n",
      "30 -10 -5\n",
      "30 -10 0\n",
      "30 -10 5\n",
      "30 -10 10\n",
      "30 -10 15\n",
      "30 -5 -15\n",
      "30 -5 -10\n",
      "30 -5 -5\n",
      "30 -5 0\n",
      "30 -5 5\n",
      "30 -5 10\n",
      "30 -5 15\n",
      "30 0 -15\n",
      "30 0 -10\n",
      "30 0 -5\n",
      "30 0 0\n",
      "30 0 5\n",
      "30 0 10\n",
      "30 0 15\n",
      "30 5 -15\n",
      "30 5 -10\n",
      "30 5 -5\n",
      "30 5 0\n",
      "30 5 5\n",
      "30 5 10\n",
      "30 5 15\n",
      "30 10 -15\n",
      "30 10 -10\n",
      "30 10 -5\n",
      "30 10 0\n",
      "30 10 5\n",
      "30 10 10\n",
      "30 10 15\n",
      "30 15 -15\n",
      "30 15 -10\n",
      "30 15 -5\n",
      "30 15 0\n",
      "30 15 5\n",
      "30 15 10\n",
      "30 15 15\n",
      "35 -15 -15\n",
      "35 -15 -10\n",
      "35 -15 -5\n",
      "35 -15 0\n",
      "35 -15 5\n",
      "35 -15 10\n",
      "35 -15 15\n",
      "35 -10 -15\n",
      "35 -10 -10\n",
      "35 -10 -5\n",
      "35 -10 0\n",
      "35 -10 5\n",
      "35 -10 10\n",
      "35 -10 15\n",
      "35 -5 -15\n",
      "35 -5 -10\n",
      "35 -5 -5\n",
      "35 -5 0\n",
      "35 -5 5\n",
      "35 -5 10\n",
      "35 -5 15\n",
      "35 0 -15\n",
      "35 0 -10\n",
      "35 0 -5\n",
      "35 0 0\n",
      "35 0 5\n",
      "35 0 10\n",
      "35 0 15\n",
      "35 5 -15\n",
      "35 5 -10\n",
      "35 5 -5\n",
      "35 5 0\n",
      "35 5 5\n",
      "35 5 10\n",
      "35 5 15\n",
      "35 10 -15\n",
      "35 10 -10\n",
      "35 10 -5\n",
      "35 10 0\n",
      "35 10 5\n",
      "35 10 10\n",
      "35 10 15\n",
      "35 15 -15\n",
      "35 15 -10\n",
      "35 15 -5\n",
      "35 15 0\n",
      "35 15 5\n",
      "35 15 10\n",
      "35 15 15\n",
      "40 -15 -15\n",
      "40 -15 -10\n",
      "40 -15 -5\n",
      "40 -15 0\n",
      "40 -15 5\n",
      "40 -15 10\n",
      "40 -15 15\n",
      "40 -10 -15\n",
      "40 -10 -10\n",
      "40 -10 -5\n",
      "40 -10 0\n",
      "40 -10 5\n",
      "40 -10 10\n",
      "40 -10 15\n",
      "40 -5 -15\n",
      "40 -5 -10\n",
      "40 -5 -5\n",
      "40 -5 0\n",
      "40 -5 5\n",
      "40 -5 10\n",
      "40 -5 15\n",
      "40 0 -15\n",
      "40 0 -10\n",
      "40 0 -5\n",
      "40 0 0\n",
      "40 0 5\n",
      "40 0 10\n",
      "40 0 15\n",
      "40 5 -15\n",
      "40 5 -10\n",
      "40 5 -5\n",
      "40 5 0\n",
      "40 5 5\n",
      "40 5 10\n",
      "40 5 15\n",
      "40 10 -15\n",
      "40 10 -10\n",
      "40 10 -5\n",
      "40 10 0\n",
      "40 10 5\n",
      "40 10 10\n",
      "40 10 15\n",
      "40 15 -15\n",
      "40 15 -10\n",
      "40 15 -5\n",
      "40 15 0\n",
      "40 15 5\n",
      "40 15 10\n",
      "40 15 15\n"
     ]
    }
   ],
   "source": [
    "\n",
    "\n",
    "widths = [0.078125, 0.3125, 2.5, 5, 10, 15, 20, 25, 30, 35, 40]\n",
    "#widths = [10]\n",
    "\n",
    "for width in widths:\n",
    "    for alpha_y in [-15, -10, -5, 0, 5, 10, 15]: #np.arange(-20, 20+4, 4):\n",
    "        for alpha_x in [-15, -10, -5, 0, 5, 10, 15]: #np.arange(-24, 24+4, 4):\n",
    "            print (width, alpha_y, alpha_x)\n",
    "            \n",
    "            rf = get_receptive_field_for_straight_line(alpha_y*np.pi/180., width*np.pi/180., \n",
    "                                                       alpha_x*np.pi/180., width*np.pi/180., alphas_epi)\n",
    "            v_est = get_v_est_for_rf_from_alphadot(rf, alphadot_signed, alphas_epi, alphadot_sign, a_smooth, \n",
    "                                                   scaling, square_after_average=square_after_average)\n",
    "            \n",
    "            data = {'width': width,\n",
    "                    'alpha_x': alpha_x,\n",
    "                    'alpha_y': alpha_y,\n",
    "                    'v_est': v_est,\n",
    "                    'v_true': v_true,\n",
    "                    'time': t,\n",
    "                    'square_after_average': square_after_average}\n",
    "            \n",
    "            fname = 'fromalphadot_nomatch_' + str(width) + '_' + str(alpha_y) + '_' + str(alpha_x) + '.pickle'\n",
    "            \n",
    "            fname = os.path.join(results_directory, fname)\n",
    "            \n",
    "            f = open(fname, 'wb')\n",
    "            pickle.dump(data, f)\n",
    "            f.close()"
   ]
  },
  {
   "cell_type": "code",
   "execution_count": null,
   "metadata": {},
   "outputs": [],
   "source": []
  },
  {
   "cell_type": "markdown",
   "metadata": {},
   "source": [
    "# Plot results for individual window: 2"
   ]
  },
  {
   "cell_type": "code",
   "execution_count": 25,
   "metadata": {},
   "outputs": [],
   "source": [
    "alpha_y = 0*np.pi/180.\n",
    "y_width = 10*np.pi/180.\n",
    "alpha_x = 0*np.pi/180.\n",
    "x_width = 10*np.pi/180.\n",
    "\n",
    "rf = get_receptive_field_for_straight_line(alpha_y, y_width, alpha_x, x_width, alphas_epi)"
   ]
  },
  {
   "cell_type": "code",
   "execution_count": 26,
   "metadata": {},
   "outputs": [
    {
     "data": {
      "image/png": "[encoded data removed]",
      "text/plain": [
       "<Figure size 612x841.89 with 2 Axes>"
      ]
     },
     "metadata": {},
     "output_type": "display_data"
    },
    {
     "data": {
      "image/png": "[encoded data removed]",
      "text/plain": [
       "<Figure size 612x841.89 with 4 Axes>"
      ]
     },
     "metadata": {},
     "output_type": "display_data"
    },
    {
     "data": {
      "image/png": "[encoded data removed]",
      "text/plain": [
       "<Figure size 612x841.89 with 4 Axes>"
      ]
     },
     "metadata": {},
     "output_type": "display_data"
    },
    {
     "data": {
      "image/png": "[encoded data removed]",
      "text/plain": [
       "<Figure size 612x841.89 with 2 Axes>"
      ]
     },
     "metadata": {},
     "output_type": "display_data"
    },
    {
     "data": {
      "image/png": "[encoded data removed]",
      "text/plain": [
       "<Figure size 612x841.89 with 1 Axes>"
      ]
     },
     "metadata": {},
     "output_type": "display_data"
    },
    {
     "data": {
      "image/png": "[encoded data removed]",
      "text/plain": [
       "<Figure size 612x841.89 with 1 Axes>"
      ]
     },
     "metadata": {},
     "output_type": "display_data"
    },
    {
     "data": {
      "image/png": "[encoded data removed]",
      "text/plain": [
       "<Figure size 612x841.89 with 2 Axes>"
      ]
     },
     "metadata": {},
     "output_type": "display_data"
    },
    {
     "data": {
      "image/png": "[encoded data removed]",
      "text/plain": [
       "<Figure size 612x841.89 with 4 Axes>"
      ]
     },
     "metadata": {},
     "output_type": "display_data"
    },
    {
     "data": {
      "image/png": "[encoded data removed]",
      "text/plain": [
       "<Figure size 612x841.89 with 1 Axes>"
      ]
     },
     "metadata": {},
     "output_type": "display_data"
    },
    {
     "data": {
      "image/png": "[encoded data removed]",
      "text/plain": [
       "<Figure size 612x841.89 with 1 Axes>"
      ]
     },
     "metadata": {},
     "output_type": "display_data"
    },
    {
     "data": {
      "image/png": "[encoded data removed]",
      "text/plain": [
       "<Figure size 612x841.89 with 1 Axes>"
      ]
     },
     "metadata": {},
     "output_type": "display_data"
    }
   ],
   "source": [
    "rf_id = 'rf_1'\n",
    "\n",
    "layout = fifi.svg_to_axes.FigureLayout('optic_flow_summary_figure.svg', autogenlayers=True, make_mplfigures=True, hide_layers=[])\n",
    "ax = layout.axes[(rf_id, rf_id)]\n",
    "\n",
    "ax.imshow(rf, cmap='bone', origin='lower')\n",
    "fifi.mpl_functions.adjust_spines(ax, [])\n",
    "\n",
    "layout.append_figure_to_layer(layout.figures[rf_id], rf_id, cleartarget=True)\n",
    "layout.write_svg('optic_flow_summary_figure.svg')"
   ]
  },
  {
   "cell_type": "code",
   "execution_count": 27,
   "metadata": {},
   "outputs": [
    {
     "name": "stderr",
     "output_type": "stream",
     "text": [
      "/home/caveman/BMD2/lib/python3.5/site-packages/scipy-1.1.0-py3.5-linux-x86_64.egg/scipy/signal/_arraytools.py:45: FutureWarning: Using a non-tuple sequence for multidimensional indexing is deprecated; use `arr[tuple(seq)]` instead of `arr[seq]`. In the future this will be interpreted as an array index, `arr[np.array(seq)]`, which will result either in an error or a different result.\n",
      "  b = a[a_slice]\n"
     ]
    }
   ],
   "source": [
    "alphadot_window_smooth, alphadot_window_dot, alphadot_window_smooth_sq = \\\n",
    "    get_alphadot_window_and_dot(rf, alphadot_signed)"
   ]
  },
  {
   "cell_type": "code",
   "execution_count": 28,
   "metadata": {},
   "outputs": [
    {
     "name": "stderr",
     "output_type": "stream",
     "text": [
      "/home/caveman/BMD2/lib/python3.5/site-packages/scipy-1.1.0-py3.5-linux-x86_64.egg/scipy/signal/_arraytools.py:45: FutureWarning: Using a non-tuple sequence for multidimensional indexing is deprecated; use `arr[tuple(seq)]` instead of `arr[seq]`. In the future this will be interpreted as an array index, `arr[np.array(seq)]`, which will result either in an error or a different result.\n",
      "  b = a[a_slice]\n"
     ]
    }
   ],
   "source": [
    "v_est = get_v_est_for_rf_from_alphadot(rf, alphadot_signed, alphas_epi, alphadot_sign, a_smooth, scaling)"
   ]
  },
  {
   "cell_type": "code",
   "execution_count": 29,
   "metadata": {},
   "outputs": [],
   "source": [
    "csa = np.abs( np.nansum(np.sin( np.abs(alphas_epi)*rf)*np.cos( np.abs(alphas_epi)*rf)) ) / np.nansum(rf)"
   ]
  },
  {
   "cell_type": "code",
   "execution_count": 30,
   "metadata": {
    "scrolled": true
   },
   "outputs": [
    {
     "data": {
      "image/png": "[encoded data removed]",
      "text/plain": [
       "<Figure size 612x841.89 with 2 Axes>"
      ]
     },
     "metadata": {},
     "output_type": "display_data"
    },
    {
     "data": {
      "image/png": "[encoded data removed]",
      "text/plain": [
       "<Figure size 612x841.89 with 4 Axes>"
      ]
     },
     "metadata": {},
     "output_type": "display_data"
    },
    {
     "data": {
      "image/png": "[encoded data removed]",
      "text/plain": [
       "<Figure size 612x841.89 with 4 Axes>"
      ]
     },
     "metadata": {},
     "output_type": "display_data"
    },
    {
     "data": {
      "image/png": "[encoded data removed]",
      "text/plain": [
       "<Figure size 612x841.89 with 2 Axes>"
      ]
     },
     "metadata": {},
     "output_type": "display_data"
    },
    {
     "data": {
      "image/png": "[encoded data removed]",
      "text/plain": [
       "<Figure size 612x841.89 with 1 Axes>"
      ]
     },
     "metadata": {},
     "output_type": "display_data"
    },
    {
     "data": {
      "image/png": "[encoded data removed]",
      "text/plain": [
       "<Figure size 612x841.89 with 1 Axes>"
      ]
     },
     "metadata": {},
     "output_type": "display_data"
    },
    {
     "data": {
      "image/png": "[encoded data removed]",
      "text/plain": [
       "<Figure size 612x841.89 with 2 Axes>"
      ]
     },
     "metadata": {},
     "output_type": "display_data"
    },
    {
     "data": {
      "image/png": "[encoded data removed]",
      "text/plain": [
       "<Figure size 612x841.89 with 4 Axes>"
      ]
     },
     "metadata": {},
     "output_type": "display_data"
    },
    {
     "data": {
      "image/png": "[encoded data removed]",
      "text/plain": [
       "<Figure size 612x841.89 with 1 Axes>"
      ]
     },
     "metadata": {},
     "output_type": "display_data"
    },
    {
     "data": {
      "image/png": "[encoded data removed]",
      "text/plain": [
       "<Figure size 612x841.89 with 1 Axes>"
      ]
     },
     "metadata": {},
     "output_type": "display_data"
    },
    {
     "data": {
      "image/png": "[encoded data removed]",
      "text/plain": [
       "<Figure size 612x841.89 with 1 Axes>"
      ]
     },
     "metadata": {},
     "output_type": "display_data"
    }
   ],
   "source": [
    "rf_id = 'r1'\n",
    "\n",
    "layout = fifi.svg_to_axes.FigureLayout('optic_flow_summary_figure.svg', autogenlayers=True, make_mplfigures=True, hide_layers=[])\n",
    "\n",
    "ax = layout.axes[(rf_id, 'r')]\n",
    "ax.plot(t, alphadot_window_smooth/csa, color='black', linewidth=0.5)\n",
    "fifi.mpl_functions.adjust_spines(ax, [])\n",
    "\n",
    "ax = layout.axes[(rf_id, 'rsq')]\n",
    "ax.plot(t, alphadot_window_smooth_sq/csa, color='black', linewidth=0.5)\n",
    "fifi.mpl_functions.adjust_spines(ax, [])\n",
    "\n",
    "ax = layout.axes[(rf_id, 'rdot')]\n",
    "ax.plot(t, alphadot_window_dot/csa, color='black', linewidth=0.5)\n",
    "ax.set_ylim(-2,2)\n",
    "fifi.mpl_functions.adjust_spines(ax, [])\n",
    "\n",
    "ax = layout.axes[(rf_id, 'v1')]\n",
    "ax.plot(t, v_est, '.', color='red', markersize=0.5)\n",
    "ax.plot(t, v_true, '--', color='black', linewidth=0.5)\n",
    "ax.set_ylim(-1,1)\n",
    "fifi.mpl_functions.adjust_spines(ax, [])\n",
    "\n",
    "layout.append_figure_to_layer(layout.figures[rf_id], rf_id, cleartarget=True)\n",
    "layout.write_svg('optic_flow_summary_figure.svg')"
   ]
  },
  {
   "cell_type": "code",
   "execution_count": null,
   "metadata": {},
   "outputs": [],
   "source": []
  },
  {
   "cell_type": "markdown",
   "metadata": {},
   "source": [
    "# Plot results for individual window: 1"
   ]
  },
  {
   "cell_type": "code",
   "execution_count": 31,
   "metadata": {},
   "outputs": [],
   "source": [
    "alpha_y = 0*np.pi/180.\n",
    "y_width = 10*np.pi/180.\n",
    "alpha_x = -10*np.pi/180.\n",
    "x_width = 10*np.pi/180.\n",
    "\n",
    "rf = get_receptive_field_for_straight_line(alpha_y, y_width, alpha_x, x_width, alphas_epi)"
   ]
  },
  {
   "cell_type": "code",
   "execution_count": 32,
   "metadata": {},
   "outputs": [
    {
     "data": {
      "image/png": "[encoded data removed]",
      "text/plain": [
       "<Figure size 612x841.89 with 2 Axes>"
      ]
     },
     "metadata": {},
     "output_type": "display_data"
    },
    {
     "data": {
      "image/png": "[encoded data removed]",
      "text/plain": [
       "<Figure size 612x841.89 with 4 Axes>"
      ]
     },
     "metadata": {},
     "output_type": "display_data"
    },
    {
     "data": {
      "image/png": "[encoded data removed]",
      "text/plain": [
       "<Figure size 612x841.89 with 4 Axes>"
      ]
     },
     "metadata": {},
     "output_type": "display_data"
    },
    {
     "data": {
      "image/png": "[encoded data removed]",
      "text/plain": [
       "<Figure size 612x841.89 with 2 Axes>"
      ]
     },
     "metadata": {},
     "output_type": "display_data"
    },
    {
     "data": {
      "image/png": "[encoded data removed]",
      "text/plain": [
       "<Figure size 612x841.89 with 1 Axes>"
      ]
     },
     "metadata": {},
     "output_type": "display_data"
    },
    {
     "data": {
      "image/png": "[encoded data removed]",
      "text/plain": [
       "<Figure size 612x841.89 with 1 Axes>"
      ]
     },
     "metadata": {},
     "output_type": "display_data"
    },
    {
     "data": {
      "image/png": "[encoded data removed]",
      "text/plain": [
       "<Figure size 612x841.89 with 2 Axes>"
      ]
     },
     "metadata": {},
     "output_type": "display_data"
    },
    {
     "data": {
      "image/png": "[encoded data removed]",
      "text/plain": [
       "<Figure size 612x841.89 with 4 Axes>"
      ]
     },
     "metadata": {},
     "output_type": "display_data"
    },
    {
     "data": {
      "image/png": "[encoded data removed]",
      "text/plain": [
       "<Figure size 612x841.89 with 1 Axes>"
      ]
     },
     "metadata": {},
     "output_type": "display_data"
    },
    {
     "data": {
      "image/png": "[encoded data removed]",
      "text/plain": [
       "<Figure size 612x841.89 with 1 Axes>"
      ]
     },
     "metadata": {},
     "output_type": "display_data"
    },
    {
     "data": {
      "image/png": "[encoded data removed]",
      "text/plain": [
       "<Figure size 612x841.89 with 1 Axes>"
      ]
     },
     "metadata": {},
     "output_type": "display_data"
    }
   ],
   "source": [
    "rf_id = 'rf_2'\n",
    "\n",
    "layout = fifi.svg_to_axes.FigureLayout('optic_flow_summary_figure.svg', autogenlayers=True, make_mplfigures=True, hide_layers=[])\n",
    "ax = layout.axes[(rf_id, rf_id)]\n",
    "\n",
    "ax.imshow(rf, cmap='bone', origin='lower')\n",
    "fifi.mpl_functions.adjust_spines(ax, [])\n",
    "\n",
    "layout.append_figure_to_layer(layout.figures[rf_id], rf_id, cleartarget=True)\n",
    "layout.write_svg('optic_flow_summary_figure.svg')"
   ]
  },
  {
   "cell_type": "code",
   "execution_count": 33,
   "metadata": {},
   "outputs": [
    {
     "name": "stderr",
     "output_type": "stream",
     "text": [
      "/home/caveman/BMD2/lib/python3.5/site-packages/scipy-1.1.0-py3.5-linux-x86_64.egg/scipy/signal/_arraytools.py:45: FutureWarning: Using a non-tuple sequence for multidimensional indexing is deprecated; use `arr[tuple(seq)]` instead of `arr[seq]`. In the future this will be interpreted as an array index, `arr[np.array(seq)]`, which will result either in an error or a different result.\n",
      "  b = a[a_slice]\n"
     ]
    }
   ],
   "source": [
    "alphadot_window_smooth, alphadot_window_dot, alphadot_window_smooth_sq = \\\n",
    "    get_alphadot_window_and_dot(rf, alphadot_signed)"
   ]
  },
  {
   "cell_type": "code",
   "execution_count": 34,
   "metadata": {},
   "outputs": [
    {
     "name": "stderr",
     "output_type": "stream",
     "text": [
      "/home/caveman/BMD2/lib/python3.5/site-packages/scipy-1.1.0-py3.5-linux-x86_64.egg/scipy/signal/_arraytools.py:45: FutureWarning: Using a non-tuple sequence for multidimensional indexing is deprecated; use `arr[tuple(seq)]` instead of `arr[seq]`. In the future this will be interpreted as an array index, `arr[np.array(seq)]`, which will result either in an error or a different result.\n",
      "  b = a[a_slice]\n"
     ]
    }
   ],
   "source": [
    "v_est = get_v_est_for_rf_from_alphadot(rf, alphadot_signed, alphas_epi, alphadot_sign, a_smooth, scaling)"
   ]
  },
  {
   "cell_type": "code",
   "execution_count": 35,
   "metadata": {},
   "outputs": [],
   "source": [
    "csa = np.abs( np.nansum(np.sin( np.abs(alphas_epi)*rf)*np.cos( np.abs(alphas_epi)*rf)) ) / np.nansum(rf)"
   ]
  },
  {
   "cell_type": "code",
   "execution_count": 36,
   "metadata": {
    "scrolled": true
   },
   "outputs": [
    {
     "data": {
      "image/png": "[encoded data removed]",
      "text/plain": [
       "<Figure size 612x841.89 with 2 Axes>"
      ]
     },
     "metadata": {},
     "output_type": "display_data"
    },
    {
     "data": {
      "image/png": "[encoded data removed]",
      "text/plain": [
       "<Figure size 612x841.89 with 4 Axes>"
      ]
     },
     "metadata": {},
     "output_type": "display_data"
    },
    {
     "data": {
      "image/png": "[encoded data removed]",
      "text/plain": [
       "<Figure size 612x841.89 with 4 Axes>"
      ]
     },
     "metadata": {},
     "output_type": "display_data"
    },
    {
     "data": {
      "image/png": "[encoded data removed]",
      "text/plain": [
       "<Figure size 612x841.89 with 2 Axes>"
      ]
     },
     "metadata": {},
     "output_type": "display_data"
    },
    {
     "data": {
      "image/png": "[encoded data removed]",
      "text/plain": [
       "<Figure size 612x841.89 with 1 Axes>"
      ]
     },
     "metadata": {},
     "output_type": "display_data"
    },
    {
     "data": {
      "image/png": "[encoded data removed]",
      "text/plain": [
       "<Figure size 612x841.89 with 1 Axes>"
      ]
     },
     "metadata": {},
     "output_type": "display_data"
    },
    {
     "data": {
      "image/png": "[encoded data removed]",
      "text/plain": [
       "<Figure size 612x841.89 with 2 Axes>"
      ]
     },
     "metadata": {},
     "output_type": "display_data"
    },
    {
     "data": {
      "image/png": "[encoded data removed]",
      "text/plain": [
       "<Figure size 612x841.89 with 4 Axes>"
      ]
     },
     "metadata": {},
     "output_type": "display_data"
    },
    {
     "data": {
      "image/png": "[encoded data removed]",
      "text/plain": [
       "<Figure size 612x841.89 with 1 Axes>"
      ]
     },
     "metadata": {},
     "output_type": "display_data"
    },
    {
     "data": {
      "image/png": "[encoded data removed]",
      "text/plain": [
       "<Figure size 612x841.89 with 1 Axes>"
      ]
     },
     "metadata": {},
     "output_type": "display_data"
    },
    {
     "data": {
      "image/png": "[encoded data removed]",
      "text/plain": [
       "<Figure size 612x841.89 with 1 Axes>"
      ]
     },
     "metadata": {},
     "output_type": "display_data"
    }
   ],
   "source": [
    "rf_id = 'r2'\n",
    "\n",
    "layout = fifi.svg_to_axes.FigureLayout('optic_flow_summary_figure.svg', autogenlayers=True, make_mplfigures=True, hide_layers=[])\n",
    "\n",
    "ax = layout.axes[(rf_id, 'r')]\n",
    "ax.plot(t, alphadot_window_smooth/csa, color='black', linewidth=0.5)\n",
    "fifi.mpl_functions.adjust_spines(ax, [])\n",
    "\n",
    "ax = layout.axes[(rf_id, 'rsq')]\n",
    "ax.plot(t, alphadot_window_smooth_sq/csa, color='black', linewidth=0.5)\n",
    "fifi.mpl_functions.adjust_spines(ax, [])\n",
    "\n",
    "ax = layout.axes[(rf_id, 'rdot')]\n",
    "ax.plot(t, alphadot_window_dot/csa, color='black', linewidth=0.5)\n",
    "ax.set_ylim(-2,2)\n",
    "fifi.mpl_functions.adjust_spines(ax, [])\n",
    "\n",
    "ax = layout.axes[(rf_id, 'v1')]\n",
    "ax.plot(t, v_est, '.', color='red', markersize=0.5)\n",
    "ax.plot(t, v_true, '--', color='black', linewidth=0.5)\n",
    "ax.set_ylim(-1,1)\n",
    "fifi.mpl_functions.adjust_spines(ax, [])\n",
    "\n",
    "layout.append_figure_to_layer(layout.figures[rf_id], rf_id, cleartarget=True)\n",
    "layout.write_svg('optic_flow_summary_figure.svg')"
   ]
  },
  {
   "cell_type": "code",
   "execution_count": null,
   "metadata": {},
   "outputs": [],
   "source": []
  },
  {
   "cell_type": "markdown",
   "metadata": {},
   "source": [
    "# Plot results for individual window: 3"
   ]
  },
  {
   "cell_type": "code",
   "execution_count": 37,
   "metadata": {},
   "outputs": [],
   "source": [
    "alpha_y = 10*np.pi/180.\n",
    "y_width = 10*np.pi/180.\n",
    "alpha_x = 10*np.pi/180.\n",
    "x_width = 10*np.pi/180.\n",
    "\n",
    "rf = get_receptive_field_for_straight_line(alpha_y, y_width, alpha_x, x_width, alphas_epi)"
   ]
  },
  {
   "cell_type": "code",
   "execution_count": 38,
   "metadata": {},
   "outputs": [
    {
     "data": {
      "image/png": "[encoded data removed]",
      "text/plain": [
       "<Figure size 612x841.89 with 2 Axes>"
      ]
     },
     "metadata": {},
     "output_type": "display_data"
    },
    {
     "data": {
      "image/png": "[encoded data removed]",
      "text/plain": [
       "<Figure size 612x841.89 with 4 Axes>"
      ]
     },
     "metadata": {},
     "output_type": "display_data"
    },
    {
     "data": {
      "image/png": "[encoded data removed]",
      "text/plain": [
       "<Figure size 612x841.89 with 4 Axes>"
      ]
     },
     "metadata": {},
     "output_type": "display_data"
    },
    {
     "data": {
      "image/png": "[encoded data removed]",
      "text/plain": [
       "<Figure size 612x841.89 with 2 Axes>"
      ]
     },
     "metadata": {},
     "output_type": "display_data"
    },
    {
     "data": {
      "image/png": "[encoded data removed]",
      "text/plain": [
       "<Figure size 612x841.89 with 1 Axes>"
      ]
     },
     "metadata": {},
     "output_type": "display_data"
    },
    {
     "data": {
      "image/png": "[encoded data removed]",
      "text/plain": [
       "<Figure size 612x841.89 with 1 Axes>"
      ]
     },
     "metadata": {},
     "output_type": "display_data"
    },
    {
     "data": {
      "image/png": "[encoded data removed]",
      "text/plain": [
       "<Figure size 612x841.89 with 2 Axes>"
      ]
     },
     "metadata": {},
     "output_type": "display_data"
    },
    {
     "data": {
      "image/png": "[encoded data removed]",
      "text/plain": [
       "<Figure size 612x841.89 with 4 Axes>"
      ]
     },
     "metadata": {},
     "output_type": "display_data"
    },
    {
     "data": {
      "image/png": "[encoded data removed]",
      "text/plain": [
       "<Figure size 612x841.89 with 1 Axes>"
      ]
     },
     "metadata": {},
     "output_type": "display_data"
    },
    {
     "data": {
      "image/png": "[encoded data removed]",
      "text/plain": [
       "<Figure size 612x841.89 with 1 Axes>"
      ]
     },
     "metadata": {},
     "output_type": "display_data"
    },
    {
     "data": {
      "image/png": "[encoded data removed]",
      "text/plain": [
       "<Figure size 612x841.89 with 1 Axes>"
      ]
     },
     "metadata": {},
     "output_type": "display_data"
    }
   ],
   "source": [
    "rf_id = 'rf_3'\n",
    "\n",
    "layout = fifi.svg_to_axes.FigureLayout('optic_flow_summary_figure.svg', autogenlayers=True, make_mplfigures=True, hide_layers=[])\n",
    "ax = layout.axes[(rf_id, rf_id)]\n",
    "\n",
    "ax.imshow(rf, cmap='bone', origin='lower')\n",
    "fifi.mpl_functions.adjust_spines(ax, [])\n",
    "\n",
    "layout.append_figure_to_layer(layout.figures[rf_id], rf_id, cleartarget=True)\n",
    "layout.write_svg('optic_flow_summary_figure.svg')"
   ]
  },
  {
   "cell_type": "code",
   "execution_count": 39,
   "metadata": {},
   "outputs": [
    {
     "name": "stderr",
     "output_type": "stream",
     "text": [
      "/home/caveman/BMD2/lib/python3.5/site-packages/scipy-1.1.0-py3.5-linux-x86_64.egg/scipy/signal/_arraytools.py:45: FutureWarning: Using a non-tuple sequence for multidimensional indexing is deprecated; use `arr[tuple(seq)]` instead of `arr[seq]`. In the future this will be interpreted as an array index, `arr[np.array(seq)]`, which will result either in an error or a different result.\n",
      "  b = a[a_slice]\n"
     ]
    }
   ],
   "source": [
    "alphadot_window_smooth, alphadot_window_dot, alphadot_window_smooth_sq = \\\n",
    "    get_alphadot_window_and_dot(rf, alphadot_signed)"
   ]
  },
  {
   "cell_type": "code",
   "execution_count": 40,
   "metadata": {},
   "outputs": [
    {
     "name": "stderr",
     "output_type": "stream",
     "text": [
      "/home/caveman/BMD2/lib/python3.5/site-packages/scipy-1.1.0-py3.5-linux-x86_64.egg/scipy/signal/_arraytools.py:45: FutureWarning: Using a non-tuple sequence for multidimensional indexing is deprecated; use `arr[tuple(seq)]` instead of `arr[seq]`. In the future this will be interpreted as an array index, `arr[np.array(seq)]`, which will result either in an error or a different result.\n",
      "  b = a[a_slice]\n"
     ]
    }
   ],
   "source": [
    "v_est = get_v_est_for_rf_from_alphadot(rf, alphadot_signed, alphas_epi, alphadot_sign, a_smooth, scaling)"
   ]
  },
  {
   "cell_type": "code",
   "execution_count": 41,
   "metadata": {},
   "outputs": [],
   "source": [
    "csa = np.abs( np.nansum(np.sin( np.abs(alphas_epi)*rf)*np.cos( np.abs(alphas_epi)*rf)) ) / np.nansum(rf)"
   ]
  },
  {
   "cell_type": "code",
   "execution_count": 42,
   "metadata": {
    "scrolled": true
   },
   "outputs": [
    {
     "data": {
      "image/png": "[encoded data removed]",
      "text/plain": [
       "<Figure size 612x841.89 with 2 Axes>"
      ]
     },
     "metadata": {},
     "output_type": "display_data"
    },
    {
     "data": {
      "image/png": "[encoded data removed]",
      "text/plain": [
       "<Figure size 612x841.89 with 4 Axes>"
      ]
     },
     "metadata": {},
     "output_type": "display_data"
    },
    {
     "data": {
      "image/png": "[encoded data removed]",
      "text/plain": [
       "<Figure size 612x841.89 with 4 Axes>"
      ]
     },
     "metadata": {},
     "output_type": "display_data"
    },
    {
     "data": {
      "image/png": "[encoded data removed]",
      "text/plain": [
       "<Figure size 612x841.89 with 2 Axes>"
      ]
     },
     "metadata": {},
     "output_type": "display_data"
    },
    {
     "data": {
      "image/png": "[encoded data removed]",
      "text/plain": [
       "<Figure size 612x841.89 with 1 Axes>"
      ]
     },
     "metadata": {},
     "output_type": "display_data"
    },
    {
     "data": {
      "image/png": "[encoded data removed]",
      "text/plain": [
       "<Figure size 612x841.89 with 1 Axes>"
      ]
     },
     "metadata": {},
     "output_type": "display_data"
    },
    {
     "data": {
      "image/png": "[encoded data removed]",
      "text/plain": [
       "<Figure size 612x841.89 with 2 Axes>"
      ]
     },
     "metadata": {},
     "output_type": "display_data"
    },
    {
     "data": {
      "image/png": "[encoded data removed]",
      "text/plain": [
       "<Figure size 612x841.89 with 4 Axes>"
      ]
     },
     "metadata": {},
     "output_type": "display_data"
    },
    {
     "data": {
      "image/png": "[encoded data removed]",
      "text/plain": [
       "<Figure size 612x841.89 with 1 Axes>"
      ]
     },
     "metadata": {},
     "output_type": "display_data"
    },
    {
     "data": {
      "image/png": "[encoded data removed]",
      "text/plain": [
       "<Figure size 612x841.89 with 1 Axes>"
      ]
     },
     "metadata": {},
     "output_type": "display_data"
    },
    {
     "data": {
      "image/png": "[encoded data removed]",
      "text/plain": [
       "<Figure size 612x841.89 with 1 Axes>"
      ]
     },
     "metadata": {},
     "output_type": "display_data"
    }
   ],
   "source": [
    "rf_id = 'r3'\n",
    "\n",
    "layout = fifi.svg_to_axes.FigureLayout('optic_flow_summary_figure.svg', autogenlayers=True, make_mplfigures=True, hide_layers=[])\n",
    "\n",
    "ax = layout.axes[(rf_id, 'r')]\n",
    "ax.plot(t, alphadot_window_smooth/csa, color='black', linewidth=0.5)\n",
    "fifi.mpl_functions.adjust_spines(ax, [])\n",
    "\n",
    "ax = layout.axes[(rf_id, 'rsq')]\n",
    "ax.plot(t, alphadot_window_smooth_sq/csa, color='black', linewidth=0.5)\n",
    "fifi.mpl_functions.adjust_spines(ax, [])\n",
    "\n",
    "ax = layout.axes[(rf_id, 'rdot')]\n",
    "ax.plot(t, alphadot_window_dot/csa, color='black', linewidth=0.5)\n",
    "ax.set_ylim(-2,2)\n",
    "fifi.mpl_functions.adjust_spines(ax, [])\n",
    "\n",
    "ax = layout.axes[(rf_id, 'v1')]\n",
    "ax.plot(t, v_est, '.', color='red', markersize=0.5)\n",
    "ax.plot(t, v_true, '--', color='black', linewidth=0.5)\n",
    "ax.set_ylim(-1,1)\n",
    "fifi.mpl_functions.adjust_spines(ax, [])\n",
    "\n",
    "layout.append_figure_to_layer(layout.figures[rf_id], rf_id, cleartarget=True)\n",
    "layout.write_svg('optic_flow_summary_figure.svg')"
   ]
  },
  {
   "cell_type": "code",
   "execution_count": null,
   "metadata": {},
   "outputs": [],
   "source": []
  },
  {
   "cell_type": "code",
   "execution_count": null,
   "metadata": {},
   "outputs": [],
   "source": []
  },
  {
   "cell_type": "code",
   "execution_count": null,
   "metadata": {},
   "outputs": [],
   "source": []
  },
  {
   "cell_type": "code",
   "execution_count": null,
   "metadata": {},
   "outputs": [],
   "source": []
  },
  {
   "cell_type": "code",
   "execution_count": null,
   "metadata": {},
   "outputs": [],
   "source": []
  },
  {
   "cell_type": "code",
   "execution_count": null,
   "metadata": {},
   "outputs": [],
   "source": []
  },
  {
   "cell_type": "code",
   "execution_count": null,
   "metadata": {},
   "outputs": [],
   "source": []
  }
 ],
 "metadata": {
  "kernelspec": {
   "display_name": "Python 3",
   "language": "python",
   "name": "python3"
  },
  "language_info": {
   "codemirror_mode": {
    "name": "ipython",
    "version": 3
   },
   "file_extension": ".py",
   "mimetype": "text/x-python",
   "name": "python",
   "nbconvert_exporter": "python",
   "pygments_lexer": "ipython3",
   "version": "3.5.2"
  }
 },
 "nbformat": 4,
 "nbformat_minor": 2
}
