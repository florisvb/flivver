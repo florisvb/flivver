{
 "cells": [
  {
   "cell_type": "code",
   "execution_count": 1,
   "metadata": {},
   "outputs": [
    {
     "name": "stderr",
     "output_type": "stream",
     "text": [
      "/home/caveman/BMD2/lib/python3.5/site-packages/tensorflow/python/framework/dtypes.py:523: FutureWarning: Passing (type, 1) or '1type' as a synonym of type is deprecated; in a future version of numpy, it will be understood as (type, (1,)) / '(1,)type'.\n",
      "  _np_qint8 = np.dtype([(\"qint8\", np.int8, 1)])\n",
      "/home/caveman/BMD2/lib/python3.5/site-packages/tensorflow/python/framework/dtypes.py:524: FutureWarning: Passing (type, 1) or '1type' as a synonym of type is deprecated; in a future version of numpy, it will be understood as (type, (1,)) / '(1,)type'.\n",
      "  _np_quint8 = np.dtype([(\"quint8\", np.uint8, 1)])\n",
      "/home/caveman/BMD2/lib/python3.5/site-packages/tensorflow/python/framework/dtypes.py:525: FutureWarning: Passing (type, 1) or '1type' as a synonym of type is deprecated; in a future version of numpy, it will be understood as (type, (1,)) / '(1,)type'.\n",
      "  _np_qint16 = np.dtype([(\"qint16\", np.int16, 1)])\n",
      "/home/caveman/BMD2/lib/python3.5/site-packages/tensorflow/python/framework/dtypes.py:526: FutureWarning: Passing (type, 1) or '1type' as a synonym of type is deprecated; in a future version of numpy, it will be understood as (type, (1,)) / '(1,)type'.\n",
      "  _np_quint16 = np.dtype([(\"quint16\", np.uint16, 1)])\n",
      "/home/caveman/BMD2/lib/python3.5/site-packages/tensorflow/python/framework/dtypes.py:527: FutureWarning: Passing (type, 1) or '1type' as a synonym of type is deprecated; in a future version of numpy, it will be understood as (type, (1,)) / '(1,)type'.\n",
      "  _np_qint32 = np.dtype([(\"qint32\", np.int32, 1)])\n",
      "/home/caveman/BMD2/lib/python3.5/site-packages/tensorflow/python/framework/dtypes.py:532: FutureWarning: Passing (type, 1) or '1type' as a synonym of type is deprecated; in a future version of numpy, it will be understood as (type, (1,)) / '(1,)type'.\n",
      "  np_resource = np.dtype([(\"resource\", np.ubyte, 1)])\n"
     ]
    }
   ],
   "source": [
    "import numpy as np\n",
    "import matplotlib.pyplot as plt\n",
    "from scipy.ndimage.interpolation import rotate\n",
    "import __kalman_smooth__\n",
    "import copy\n",
    "import pynumdiff\n",
    "\n",
    "import figurefirst as fifi\n",
    "import os\n",
    "\n",
    "import pickle\n",
    "\n",
    "import scipy.stats\n",
    "import scipy.ndimage\n",
    "\n",
    "import pandas"
   ]
  },
  {
   "cell_type": "code",
   "execution_count": 2,
   "metadata": {
    "code_folding": [
     0
    ]
   },
   "outputs": [],
   "source": [
    "def get_filenames(path, contains, does_not_contain=['~', '.pyc']):\n",
    "    cmd = 'ls ' + '\"' + path + '\"'\n",
    "    ls = os.popen(cmd).read()\n",
    "    all_filelist = ls.split('\\n')\n",
    "    try:\n",
    "        all_filelist.remove('')\n",
    "    except:\n",
    "        pass\n",
    "    filelist = []\n",
    "    for i, filename in enumerate(all_filelist):\n",
    "        if contains in filename:\n",
    "            fileok = True\n",
    "            for nc in does_not_contain:\n",
    "                if nc in filename:\n",
    "                    fileok = False\n",
    "            if fileok:\n",
    "                filelist.append( os.path.join(path, filename) )\n",
    "    return filelist"
   ]
  },
  {
   "cell_type": "markdown",
   "metadata": {},
   "source": [
    "# Load data"
   ]
  },
  {
   "cell_type": "code",
   "execution_count": 3,
   "metadata": {},
   "outputs": [],
   "source": [
    "data_directory = 'FLIVVER_DATA/figures_3_and_4'"
   ]
  },
  {
   "cell_type": "code",
   "execution_count": 4,
   "metadata": {},
   "outputs": [],
   "source": [
    "results_directory = '../../Figure_4/noglobalalphadotavg_vel_ests_for_rfs_nonoise_squarebeforeavg'"
   ]
  },
  {
   "cell_type": "code",
   "execution_count": 5,
   "metadata": {
    "scrolled": true
   },
   "outputs": [],
   "source": [
    "alphadot_meta = pandas.read_hdf(os.path.join(data_directory, 'alphadot_meta.hdf'))"
   ]
  },
  {
   "cell_type": "code",
   "execution_count": 6,
   "metadata": {},
   "outputs": [],
   "source": [
    "alphas_x = alphadot_meta.xs('alphas_x')\n",
    "alphas_y = alphadot_meta.xs('alphas_y')\n",
    "alphas_epi = alphadot_meta.xs('alphas_epi')"
   ]
  },
  {
   "cell_type": "code",
   "execution_count": 7,
   "metadata": {},
   "outputs": [],
   "source": [
    "vel_accel_time = pandas.read_hdf(os.path.join(data_directory, 'vel_accel_time.hdf'))"
   ]
  },
  {
   "cell_type": "code",
   "execution_count": 8,
   "metadata": {},
   "outputs": [],
   "source": [
    "dt = vel_accel_time.xs('dt').values[0,0]\n",
    "scaling = vel_accel_time.xs('scaling').values[0,0]\n",
    "t = vel_accel_time.xs('time').values[:,0]\n",
    "\n",
    "a_smooth = vel_accel_time.xs('accel_smooth_2').values[:,0]\n",
    "v_true = vel_accel_time.xs('velocity_true').values[:,0]"
   ]
  },
  {
   "cell_type": "code",
   "execution_count": 9,
   "metadata": {},
   "outputs": [],
   "source": [
    "v_true_smooth, a_true_smooth = pynumdiff.total_variation_regularization.jerk(v_true, dt, [100])"
   ]
  },
  {
   "cell_type": "code",
   "execution_count": 10,
   "metadata": {},
   "outputs": [
    {
     "data": {
      "text/plain": [
       "[<matplotlib.lines.Line2D at 0x7f2a87f38748>]"
      ]
     },
     "execution_count": 10,
     "metadata": {},
     "output_type": "execute_result"
    },
    {
     "data": {
      "image/png": "[encoded data removed]",
      "text/plain": [
       "<Figure size 432x288 with 1 Axes>"
      ]
     },
     "metadata": {},
     "output_type": "display_data"
    }
   ],
   "source": [
    "plt.plot(a_true_smooth)"
   ]
  },
  {
   "cell_type": "markdown",
   "metadata": {},
   "source": [
    "# Load results"
   ]
  },
  {
   "cell_type": "code",
   "execution_count": 11,
   "metadata": {},
   "outputs": [],
   "source": [
    "results_filenames =  get_filenames(results_directory, 'fromalphadot_nomatch')"
   ]
  },
  {
   "cell_type": "code",
   "execution_count": 12,
   "metadata": {},
   "outputs": [],
   "source": [
    "def get_v_est_for_window_size(results_filenames, window_size):\n",
    "    v_ests = []\n",
    "    for filename in results_filenames:\n",
    "        f = open(filename, 'rb')\n",
    "        results = pickle.load(f)\n",
    "        f.close()\n",
    "        \n",
    "        if results['width'] == window_size:\n",
    "            if np.std(results['v_est']) > 0.5:\n",
    "                v_ests.append(results['v_est'])\n",
    "    return np.median(v_ests, axis=0)"
   ]
  },
  {
   "cell_type": "code",
   "execution_count": 13,
   "metadata": {},
   "outputs": [],
   "source": [
    "# get true\n",
    "f = open(results_filenames[0], 'rb')\n",
    "results = pickle.load(f)\n",
    "f.close()\n",
    "v_true = results['v_true']"
   ]
  },
  {
   "cell_type": "markdown",
   "metadata": {},
   "source": [
    "# Test out for one window"
   ]
  },
  {
   "cell_type": "markdown",
   "metadata": {},
   "source": [
    "## Raw"
   ]
  },
  {
   "cell_type": "code",
   "execution_count": 14,
   "metadata": {},
   "outputs": [],
   "source": [
    "window_size = 40\n",
    "v_est = get_v_est_for_window_size(results_filenames, window_size)"
   ]
  },
  {
   "cell_type": "code",
   "execution_count": 15,
   "metadata": {},
   "outputs": [
    {
     "data": {
      "text/plain": [
       "(-1, 1)"
      ]
     },
     "execution_count": 15,
     "metadata": {},
     "output_type": "execute_result"
    },
    {
     "data": {
      "image/png": "[encoded data removed]",
      "text/plain": [
       "<Figure size 432x288 with 1 Axes>"
      ]
     },
     "metadata": {},
     "output_type": "display_data"
    }
   ],
   "source": [
    "plt.plot(v_est, '.')\n",
    "plt.plot(v_true, color='red')\n",
    "\n",
    "plt.ylim(-1,1)"
   ]
  },
  {
   "cell_type": "markdown",
   "metadata": {},
   "source": [
    "# Automate it to get RMSE for a given window"
   ]
  },
  {
   "cell_type": "code",
   "execution_count": 16,
   "metadata": {},
   "outputs": [],
   "source": [
    "def get_rmse_for_window(results_directory, window, tvgamma=1, N_windows='all'):\n",
    "    print(results_directory)\n",
    "    results_filenames =  get_filenames(results_directory, 'fromalphadot_nomatch_' + str(window))\n",
    "    print(len(results_filenames))\n",
    "    \n",
    "    if N_windows == 'all':\n",
    "        v_est = get_v_est_for_window_size(results_filenames, window)\n",
    "    else:\n",
    "        idx = np.random.choice(np.arange(0, len(results_filenames)), N_windows, replace=False)\n",
    "        print(len(idx))\n",
    "        v_est = get_v_est_for_window_size( [results_filenames[i] for i in idx], window)\n",
    "    if v_est is not None:\n",
    "        params, val = pynumdiff.optimize.smooth_finite_difference.butterdiff(v_est, dt, tvgamma=tvgamma)\n",
    "        print(params)\n",
    "        v_est_optic_flow_butter, _ = pynumdiff.smooth_finite_difference.butterdiff(v_est, dt, params)\n",
    "        rmse = np.sqrt( np.median( (np.ravel(v_est_optic_flow_butter) - v_true)**2 ))\n",
    "        return rmse\n",
    "    else:\n",
    "        return None"
   ]
  },
  {
   "cell_type": "code",
   "execution_count": 17,
   "metadata": {},
   "outputs": [],
   "source": [
    "windows = [0.078125, 0.3125, 2.5, 5, 10, 15, 20, 25, 30, 35]"
   ]
  },
  {
   "cell_type": "code",
   "execution_count": 18,
   "metadata": {},
   "outputs": [
    {
     "name": "stdout",
     "output_type": "stream",
     "text": [
      "../../2021_velocity_estimation_figure_4/noglobalalphadotavg_vel_ests_for_rfs_noisy_squareafteravg\n",
      "49\n"
     ]
    },
    {
     "name": "stderr",
     "output_type": "stream",
     "text": [
      "/home/caveman/BMD2/lib/python3.5/site-packages/scipy-1.1.0-py3.5-linux-x86_64.egg/scipy/signal/_arraytools.py:45: FutureWarning: Using a non-tuple sequence for multidimensional indexing is deprecated; use `arr[tuple(seq)]` instead of `arr[seq]`. In the future this will be interpreted as an array index, `arr[np.array(seq)]`, which will result either in an error or a different result.\n",
      "  b = a[a_slice]\n",
      "/home/caveman/BMD2/lib/python3.5/site-packages/scipy-1.1.0-py3.5-linux-x86_64.egg/scipy/signal/_arraytools.py:45: FutureWarning: Using a non-tuple sequence for multidimensional indexing is deprecated; use `arr[tuple(seq)]` instead of `arr[seq]`. In the future this will be interpreted as an array index, `arr[np.array(seq)]`, which will result either in an error or a different result.\n",
      "  b = a[a_slice]\n",
      "/home/caveman/BMD2/lib/python3.5/site-packages/scipy-1.1.0-py3.5-linux-x86_64.egg/scipy/signal/_arraytools.py:45: FutureWarning: Using a non-tuple sequence for multidimensional indexing is deprecated; use `arr[tuple(seq)]` instead of `arr[seq]`. In the future this will be interpreted as an array index, `arr[np.array(seq)]`, which will result either in an error or a different result.\n",
      "  b = a[a_slice]\n",
      "/home/caveman/BMD2/lib/python3.5/site-packages/scipy-1.1.0-py3.5-linux-x86_64.egg/scipy/signal/_arraytools.py:45: FutureWarning: Using a non-tuple sequence for multidimensional indexing is deprecated; use `arr[tuple(seq)]` instead of `arr[seq]`. In the future this will be interpreted as an array index, `arr[np.array(seq)]`, which will result either in an error or a different result.\n",
      "  b = a[a_slice]\n",
      "/home/caveman/BMD2/lib/python3.5/site-packages/scipy-1.1.0-py3.5-linux-x86_64.egg/scipy/signal/_arraytools.py:45: FutureWarning: Using a non-tuple sequence for multidimensional indexing is deprecated; use `arr[tuple(seq)]` instead of `arr[seq]`. In the future this will be interpreted as an array index, `arr[np.array(seq)]`, which will result either in an error or a different result.\n",
      "  b = a[a_slice]\n",
      "/home/caveman/BMD2/lib/python3.5/site-packages/scipy-1.1.0-py3.5-linux-x86_64.egg/scipy/signal/_arraytools.py:45: FutureWarning: Using a non-tuple sequence for multidimensional indexing is deprecated; use `arr[tuple(seq)]` instead of `arr[seq]`. In the future this will be interpreted as an array index, `arr[np.array(seq)]`, which will result either in an error or a different result.\n",
      "  b = a[a_slice]\n",
      "/home/caveman/BMD2/lib/python3.5/site-packages/scipy-1.1.0-py3.5-linux-x86_64.egg/scipy/signal/_arraytools.py:45: FutureWarning: Using a non-tuple sequence for multidimensional indexing is deprecated; use `arr[tuple(seq)]` instead of `arr[seq]`. In the future this will be interpreted as an array index, `arr[np.array(seq)]`, which will result either in an error or a different result.\n",
      "  b = a[a_slice]\n",
      "/home/caveman/BMD2/lib/python3.5/site-packages/scipy-1.1.0-py3.5-linux-x86_64.egg/scipy/signal/_arraytools.py:45: FutureWarning: Using a non-tuple sequence for multidimensional indexing is deprecated; use `arr[tuple(seq)]` instead of `arr[seq]`. In the future this will be interpreted as an array index, `arr[np.array(seq)]`, which will result either in an error or a different result.\n",
      "  b = a[a_slice]\n",
      "/home/caveman/BMD2/lib/python3.5/site-packages/scipy-1.1.0-py3.5-linux-x86_64.egg/scipy/signal/_arraytools.py:45: FutureWarning: Using a non-tuple sequence for multidimensional indexing is deprecated; use `arr[tuple(seq)]` instead of `arr[seq]`. In the future this will be interpreted as an array index, `arr[np.array(seq)]`, which will result either in an error or a different result.\n",
      "  b = a[a_slice]\n",
      "/home/caveman/BMD2/lib/python3.5/site-packages/scipy-1.1.0-py3.5-linux-x86_64.egg/scipy/signal/_arraytools.py:45: FutureWarning: Using a non-tuple sequence for multidimensional indexing is deprecated; use `arr[tuple(seq)]` instead of `arr[seq]`. In the future this will be interpreted as an array index, `arr[np.array(seq)]`, which will result either in an error or a different result.\n",
      "  b = a[a_slice]\n",
      "/home/caveman/BMD2/lib/python3.5/site-packages/scipy-1.1.0-py3.5-linux-x86_64.egg/scipy/signal/_arraytools.py:45: FutureWarning: Using a non-tuple sequence for multidimensional indexing is deprecated; use `arr[tuple(seq)]` instead of `arr[seq]`. In the future this will be interpreted as an array index, `arr[np.array(seq)]`, which will result either in an error or a different result.\n",
      "  b = a[a_slice]\n",
      "/home/caveman/BMD2/lib/python3.5/site-packages/scipy-1.1.0-py3.5-linux-x86_64.egg/scipy/signal/_arraytools.py:45: FutureWarning: Using a non-tuple sequence for multidimensional indexing is deprecated; use `arr[tuple(seq)]` instead of `arr[seq]`. In the future this will be interpreted as an array index, `arr[np.array(seq)]`, which will result either in an error or a different result.\n",
      "  b = a[a_slice]\n",
      "/home/caveman/BMD2/lib/python3.5/site-packages/scipy-1.1.0-py3.5-linux-x86_64.egg/scipy/signal/_arraytools.py:45: FutureWarning: Using a non-tuple sequence for multidimensional indexing is deprecated; use `arr[tuple(seq)]` instead of `arr[seq]`. In the future this will be interpreted as an array index, `arr[np.array(seq)]`, which will result either in an error or a different result.\n",
      "  b = a[a_slice]\n",
      "/home/caveman/BMD2/lib/python3.5/site-packages/scipy-1.1.0-py3.5-linux-x86_64.egg/scipy/signal/_arraytools.py:45: FutureWarning: Using a non-tuple sequence for multidimensional indexing is deprecated; use `arr[tuple(seq)]` instead of `arr[seq]`. In the future this will be interpreted as an array index, `arr[np.array(seq)]`, which will result either in an error or a different result.\n",
      "  b = a[a_slice]\n",
      "/home/caveman/BMD2/lib/python3.5/site-packages/scipy-1.1.0-py3.5-linux-x86_64.egg/scipy/signal/_arraytools.py:45: FutureWarning: Using a non-tuple sequence for multidimensional indexing is deprecated; use `arr[tuple(seq)]` instead of `arr[seq]`. In the future this will be interpreted as an array index, `arr[np.array(seq)]`, which will result either in an error or a different result.\n",
      "  b = a[a_slice]\n",
      "/home/caveman/BMD2/lib/python3.5/site-packages/scipy-1.1.0-py3.5-linux-x86_64.egg/scipy/signal/_arraytools.py:45: FutureWarning: Using a non-tuple sequence for multidimensional indexing is deprecated; use `arr[tuple(seq)]` instead of `arr[seq]`. In the future this will be interpreted as an array index, `arr[np.array(seq)]`, which will result either in an error or a different result.\n",
      "  b = a[a_slice]\n",
      "/home/caveman/BMD2/lib/python3.5/site-packages/scipy-1.1.0-py3.5-linux-x86_64.egg/scipy/signal/_arraytools.py:45: FutureWarning: Using a non-tuple sequence for multidimensional indexing is deprecated; use `arr[tuple(seq)]` instead of `arr[seq]`. In the future this will be interpreted as an array index, `arr[np.array(seq)]`, which will result either in an error or a different result.\n",
      "  b = a[a_slice]\n",
      "/home/caveman/BMD2/lib/python3.5/site-packages/scipy-1.1.0-py3.5-linux-x86_64.egg/scipy/signal/_arraytools.py:45: FutureWarning: Using a non-tuple sequence for multidimensional indexing is deprecated; use `arr[tuple(seq)]` instead of `arr[seq]`. In the future this will be interpreted as an array index, `arr[np.array(seq)]`, which will result either in an error or a different result.\n",
      "  b = a[a_slice]\n",
      "/home/caveman/BMD2/lib/python3.5/site-packages/scipy-1.1.0-py3.5-linux-x86_64.egg/scipy/signal/_arraytools.py:45: FutureWarning: Using a non-tuple sequence for multidimensional indexing is deprecated; use `arr[tuple(seq)]` instead of `arr[seq]`. In the future this will be interpreted as an array index, `arr[np.array(seq)]`, which will result either in an error or a different result.\n",
      "  b = a[a_slice]\n",
      "/home/caveman/BMD2/lib/python3.5/site-packages/scipy-1.1.0-py3.5-linux-x86_64.egg/scipy/signal/_arraytools.py:45: FutureWarning: Using a non-tuple sequence for multidimensional indexing is deprecated; use `arr[tuple(seq)]` instead of `arr[seq]`. In the future this will be interpreted as an array index, `arr[np.array(seq)]`, which will result either in an error or a different result.\n",
      "  b = a[a_slice]\n",
      "/home/caveman/BMD2/lib/python3.5/site-packages/scipy-1.1.0-py3.5-linux-x86_64.egg/scipy/signal/_arraytools.py:45: FutureWarning: Using a non-tuple sequence for multidimensional indexing is deprecated; use `arr[tuple(seq)]` instead of `arr[seq]`. In the future this will be interpreted as an array index, `arr[np.array(seq)]`, which will result either in an error or a different result.\n",
      "  b = a[a_slice]\n"
     ]
    },
    {
     "name": "stderr",
     "output_type": "stream",
     "text": [
      "/home/caveman/BMD2/lib/python3.5/site-packages/scipy-1.1.0-py3.5-linux-x86_64.egg/scipy/signal/_arraytools.py:45: FutureWarning: Using a non-tuple sequence for multidimensional indexing is deprecated; use `arr[tuple(seq)]` instead of `arr[seq]`. In the future this will be interpreted as an array index, `arr[np.array(seq)]`, which will result either in an error or a different result.\n",
      "  b = a[a_slice]\n",
      "/home/caveman/BMD2/lib/python3.5/site-packages/scipy-1.1.0-py3.5-linux-x86_64.egg/scipy/signal/_arraytools.py:45: FutureWarning: Using a non-tuple sequence for multidimensional indexing is deprecated; use `arr[tuple(seq)]` instead of `arr[seq]`. In the future this will be interpreted as an array index, `arr[np.array(seq)]`, which will result either in an error or a different result.\n",
      "  b = a[a_slice]\n",
      "/home/caveman/BMD2/lib/python3.5/site-packages/scipy-1.1.0-py3.5-linux-x86_64.egg/scipy/signal/_arraytools.py:45: FutureWarning: Using a non-tuple sequence for multidimensional indexing is deprecated; use `arr[tuple(seq)]` instead of `arr[seq]`. In the future this will be interpreted as an array index, `arr[np.array(seq)]`, which will result either in an error or a different result.\n",
      "  b = a[a_slice]\n",
      "/home/caveman/BMD2/lib/python3.5/site-packages/scipy-1.1.0-py3.5-linux-x86_64.egg/scipy/signal/_arraytools.py:45: FutureWarning: Using a non-tuple sequence for multidimensional indexing is deprecated; use `arr[tuple(seq)]` instead of `arr[seq]`. In the future this will be interpreted as an array index, `arr[np.array(seq)]`, which will result either in an error or a different result.\n",
      "  b = a[a_slice]\n",
      "/home/caveman/BMD2/lib/python3.5/site-packages/scipy-1.1.0-py3.5-linux-x86_64.egg/scipy/signal/_arraytools.py:45: FutureWarning: Using a non-tuple sequence for multidimensional indexing is deprecated; use `arr[tuple(seq)]` instead of `arr[seq]`. In the future this will be interpreted as an array index, `arr[np.array(seq)]`, which will result either in an error or a different result.\n",
      "  b = a[a_slice]\n",
      "/home/caveman/BMD2/lib/python3.5/site-packages/scipy-1.1.0-py3.5-linux-x86_64.egg/scipy/signal/_arraytools.py:45: FutureWarning: Using a non-tuple sequence for multidimensional indexing is deprecated; use `arr[tuple(seq)]` instead of `arr[seq]`. In the future this will be interpreted as an array index, `arr[np.array(seq)]`, which will result either in an error or a different result.\n",
      "  b = a[a_slice]\n",
      "/home/caveman/BMD2/lib/python3.5/site-packages/scipy-1.1.0-py3.5-linux-x86_64.egg/scipy/signal/_arraytools.py:45: FutureWarning: Using a non-tuple sequence for multidimensional indexing is deprecated; use `arr[tuple(seq)]` instead of `arr[seq]`. In the future this will be interpreted as an array index, `arr[np.array(seq)]`, which will result either in an error or a different result.\n",
      "  b = a[a_slice]\n",
      "/home/caveman/BMD2/lib/python3.5/site-packages/scipy-1.1.0-py3.5-linux-x86_64.egg/scipy/signal/_arraytools.py:45: FutureWarning: Using a non-tuple sequence for multidimensional indexing is deprecated; use `arr[tuple(seq)]` instead of `arr[seq]`. In the future this will be interpreted as an array index, `arr[np.array(seq)]`, which will result either in an error or a different result.\n",
      "  b = a[a_slice]\n",
      "/home/caveman/BMD2/lib/python3.5/site-packages/scipy-1.1.0-py3.5-linux-x86_64.egg/scipy/signal/_arraytools.py:45: FutureWarning: Using a non-tuple sequence for multidimensional indexing is deprecated; use `arr[tuple(seq)]` instead of `arr[seq]`. In the future this will be interpreted as an array index, `arr[np.array(seq)]`, which will result either in an error or a different result.\n",
      "  b = a[a_slice]\n",
      "/home/caveman/BMD2/lib/python3.5/site-packages/scipy-1.1.0-py3.5-linux-x86_64.egg/scipy/signal/_arraytools.py:45: FutureWarning: Using a non-tuple sequence for multidimensional indexing is deprecated; use `arr[tuple(seq)]` instead of `arr[seq]`. In the future this will be interpreted as an array index, `arr[np.array(seq)]`, which will result either in an error or a different result.\n",
      "  b = a[a_slice]\n",
      "/home/caveman/BMD2/lib/python3.5/site-packages/scipy-1.1.0-py3.5-linux-x86_64.egg/scipy/signal/_arraytools.py:45: FutureWarning: Using a non-tuple sequence for multidimensional indexing is deprecated; use `arr[tuple(seq)]` instead of `arr[seq]`. In the future this will be interpreted as an array index, `arr[np.array(seq)]`, which will result either in an error or a different result.\n",
      "  b = a[a_slice]\n"
     ]
    },
    {
     "name": "stdout",
     "output_type": "stream",
     "text": [
      "[2, 0.08114257812500006]\n",
      "../../2021_velocity_estimation_figure_4/noglobalalphadotavg_vel_ests_for_rfs_noisy_squareafteravg\n",
      "49\n"
     ]
    },
    {
     "name": "stderr",
     "output_type": "stream",
     "text": [
      "/home/caveman/BMD2/lib/python3.5/site-packages/scipy-1.1.0-py3.5-linux-x86_64.egg/scipy/signal/_arraytools.py:45: FutureWarning: Using a non-tuple sequence for multidimensional indexing is deprecated; use `arr[tuple(seq)]` instead of `arr[seq]`. In the future this will be interpreted as an array index, `arr[np.array(seq)]`, which will result either in an error or a different result.\n",
      "  b = a[a_slice]\n"
     ]
    },
    {
     "name": "stdout",
     "output_type": "stream",
     "text": [
      "[2, 0.08166015625000009]\n",
      "../../2021_velocity_estimation_figure_4/noglobalalphadotavg_vel_ests_for_rfs_noisy_squareafteravg\n",
      "49\n",
      "[2, 0.06858398437500007]\n",
      "../../2021_velocity_estimation_figure_4/noglobalalphadotavg_vel_ests_for_rfs_noisy_squareafteravg\n",
      "49\n",
      "[2, 0.06574218750000008]\n",
      "../../2021_velocity_estimation_figure_4/noglobalalphadotavg_vel_ests_for_rfs_noisy_squareafteravg\n",
      "49\n",
      "[2, 0.06861328125000006]\n",
      "../../2021_velocity_estimation_figure_4/noglobalalphadotavg_vel_ests_for_rfs_noisy_squareafteravg\n",
      "49\n",
      "[1, 0.06339263343811027]\n",
      "../../2021_velocity_estimation_figure_4/noglobalalphadotavg_vel_ests_for_rfs_noisy_squareafteravg\n",
      "49\n",
      "[1, 0.05710937500000009]\n",
      "../../2021_velocity_estimation_figure_4/noglobalalphadotavg_vel_ests_for_rfs_noisy_squareafteravg\n",
      "49\n",
      "[2, 0.05757812500000008]\n",
      "../../2021_velocity_estimation_figure_4/noglobalalphadotavg_vel_ests_for_rfs_noisy_squareafteravg\n",
      "49\n",
      "[2, 0.058945312500000076]\n",
      "../../2021_velocity_estimation_figure_4/noglobalalphadotavg_vel_ests_for_rfs_noisy_squareafteravg\n",
      "49\n",
      "[2, 0.059843750000000084]\n",
      "../../2021_velocity_estimation_figure_4/noglobalalphadotavg_vel_ests_for_rfs_noisy_squareafteravg\n",
      "49\n",
      "[2, 0.08114257812500006]\n",
      "../../2021_velocity_estimation_figure_4/noglobalalphadotavg_vel_ests_for_rfs_noisy_squareafteravg\n",
      "49\n",
      "[2, 0.08166015625000009]\n",
      "../../2021_velocity_estimation_figure_4/noglobalalphadotavg_vel_ests_for_rfs_noisy_squareafteravg\n",
      "49\n",
      "[2, 0.06858398437500007]\n",
      "../../2021_velocity_estimation_figure_4/noglobalalphadotavg_vel_ests_for_rfs_noisy_squareafteravg\n",
      "49\n",
      "[2, 0.06574218750000008]\n",
      "../../2021_velocity_estimation_figure_4/noglobalalphadotavg_vel_ests_for_rfs_noisy_squareafteravg\n",
      "49\n",
      "[2, 0.06861328125000006]\n",
      "../../2021_velocity_estimation_figure_4/noglobalalphadotavg_vel_ests_for_rfs_noisy_squareafteravg\n",
      "49\n",
      "[1, 0.06339263343811027]\n",
      "../../2021_velocity_estimation_figure_4/noglobalalphadotavg_vel_ests_for_rfs_noisy_squareafteravg\n",
      "49\n",
      "[1, 0.05710937500000009]\n",
      "../../2021_velocity_estimation_figure_4/noglobalalphadotavg_vel_ests_for_rfs_noisy_squareafteravg\n",
      "49\n",
      "[2, 0.05757812500000008]\n",
      "../../2021_velocity_estimation_figure_4/noglobalalphadotavg_vel_ests_for_rfs_noisy_squareafteravg\n",
      "49\n",
      "[2, 0.058945312500000076]\n",
      "../../2021_velocity_estimation_figure_4/noglobalalphadotavg_vel_ests_for_rfs_noisy_squareafteravg\n",
      "49\n",
      "[2, 0.059843750000000084]\n",
      "../../2021_velocity_estimation_figure_4/noglobalalphadotavg_vel_ests_for_rfs_noisy_squareafteravg\n",
      "49\n",
      "[2, 0.08114257812500006]\n",
      "../../2021_velocity_estimation_figure_4/noglobalalphadotavg_vel_ests_for_rfs_noisy_squareafteravg\n",
      "49\n",
      "[2, 0.08166015625000009]\n",
      "../../2021_velocity_estimation_figure_4/noglobalalphadotavg_vel_ests_for_rfs_noisy_squareafteravg\n",
      "49\n",
      "[2, 0.06858398437500007]\n",
      "../../2021_velocity_estimation_figure_4/noglobalalphadotavg_vel_ests_for_rfs_noisy_squareafteravg\n",
      "49\n",
      "[2, 0.06574218750000008]\n",
      "../../2021_velocity_estimation_figure_4/noglobalalphadotavg_vel_ests_for_rfs_noisy_squareafteravg\n",
      "49\n",
      "[2, 0.06861328125000006]\n",
      "../../2021_velocity_estimation_figure_4/noglobalalphadotavg_vel_ests_for_rfs_noisy_squareafteravg\n",
      "49\n",
      "[1, 0.06339263343811027]\n",
      "../../2021_velocity_estimation_figure_4/noglobalalphadotavg_vel_ests_for_rfs_noisy_squareafteravg\n",
      "49\n",
      "[1, 0.05710937500000009]\n",
      "../../2021_velocity_estimation_figure_4/noglobalalphadotavg_vel_ests_for_rfs_noisy_squareafteravg\n",
      "49\n",
      "[2, 0.05757812500000008]\n",
      "../../2021_velocity_estimation_figure_4/noglobalalphadotavg_vel_ests_for_rfs_noisy_squareafteravg\n",
      "49\n",
      "[2, 0.058945312500000076]\n",
      "../../2021_velocity_estimation_figure_4/noglobalalphadotavg_vel_ests_for_rfs_noisy_squareafteravg\n",
      "49\n",
      "[2, 0.059843750000000084]\n",
      "../../2021_velocity_estimation_figure_4/noglobalalphadotavg_vel_ests_for_rfs_noisy_squareafteravg\n",
      "49\n",
      "[2, 0.08114257812500006]\n",
      "../../2021_velocity_estimation_figure_4/noglobalalphadotavg_vel_ests_for_rfs_noisy_squareafteravg\n",
      "49\n",
      "[2, 0.08166015625000009]\n",
      "../../2021_velocity_estimation_figure_4/noglobalalphadotavg_vel_ests_for_rfs_noisy_squareafteravg\n",
      "49\n",
      "[2, 0.06858398437500007]\n",
      "../../2021_velocity_estimation_figure_4/noglobalalphadotavg_vel_ests_for_rfs_noisy_squareafteravg\n",
      "49\n",
      "[2, 0.06574218750000008]\n",
      "../../2021_velocity_estimation_figure_4/noglobalalphadotavg_vel_ests_for_rfs_noisy_squareafteravg\n",
      "49\n",
      "[2, 0.06861328125000006]\n",
      "../../2021_velocity_estimation_figure_4/noglobalalphadotavg_vel_ests_for_rfs_noisy_squareafteravg\n",
      "49\n",
      "[1, 0.06339263343811027]\n",
      "../../2021_velocity_estimation_figure_4/noglobalalphadotavg_vel_ests_for_rfs_noisy_squareafteravg\n",
      "49\n",
      "[1, 0.05710937500000009]\n",
      "../../2021_velocity_estimation_figure_4/noglobalalphadotavg_vel_ests_for_rfs_noisy_squareafteravg\n",
      "49\n",
      "[2, 0.05757812500000008]\n",
      "../../2021_velocity_estimation_figure_4/noglobalalphadotavg_vel_ests_for_rfs_noisy_squareafteravg\n",
      "49\n",
      "[2, 0.058945312500000076]\n",
      "../../2021_velocity_estimation_figure_4/noglobalalphadotavg_vel_ests_for_rfs_noisy_squareafteravg\n",
      "49\n",
      "[2, 0.059843750000000084]\n",
      "../../2021_velocity_estimation_figure_4/noglobalalphadotavg_vel_ests_for_rfs_noisy_squareafteravg\n",
      "49\n",
      "[2, 0.08114257812500006]\n",
      "../../2021_velocity_estimation_figure_4/noglobalalphadotavg_vel_ests_for_rfs_noisy_squareafteravg\n",
      "49\n",
      "[2, 0.08166015625000009]\n",
      "../../2021_velocity_estimation_figure_4/noglobalalphadotavg_vel_ests_for_rfs_noisy_squareafteravg\n",
      "49\n",
      "[2, 0.06858398437500007]\n",
      "../../2021_velocity_estimation_figure_4/noglobalalphadotavg_vel_ests_for_rfs_noisy_squareafteravg\n",
      "49\n",
      "[2, 0.06574218750000008]\n",
      "../../2021_velocity_estimation_figure_4/noglobalalphadotavg_vel_ests_for_rfs_noisy_squareafteravg\n",
      "49\n",
      "[2, 0.06861328125000006]\n",
      "../../2021_velocity_estimation_figure_4/noglobalalphadotavg_vel_ests_for_rfs_noisy_squareafteravg\n",
      "49\n",
      "[1, 0.06339263343811027]\n",
      "../../2021_velocity_estimation_figure_4/noglobalalphadotavg_vel_ests_for_rfs_noisy_squareafteravg\n",
      "49\n",
      "[1, 0.05710937500000009]\n",
      "../../2021_velocity_estimation_figure_4/noglobalalphadotavg_vel_ests_for_rfs_noisy_squareafteravg\n",
      "49\n",
      "[2, 0.05757812500000008]\n",
      "../../2021_velocity_estimation_figure_4/noglobalalphadotavg_vel_ests_for_rfs_noisy_squareafteravg\n",
      "49\n",
      "[2, 0.058945312500000076]\n",
      "../../2021_velocity_estimation_figure_4/noglobalalphadotavg_vel_ests_for_rfs_noisy_squareafteravg\n",
      "49\n",
      "[2, 0.059843750000000084]\n",
      "../../2021_velocity_estimation_figure_4/noglobalalphadotavg_vel_ests_for_rfs_noisy_squareafteravg\n",
      "49\n",
      "[2, 0.08114257812500006]\n",
      "../../2021_velocity_estimation_figure_4/noglobalalphadotavg_vel_ests_for_rfs_noisy_squareafteravg\n",
      "49\n",
      "[2, 0.08166015625000009]\n",
      "../../2021_velocity_estimation_figure_4/noglobalalphadotavg_vel_ests_for_rfs_noisy_squareafteravg\n",
      "49\n",
      "[2, 0.06858398437500007]\n",
      "../../2021_velocity_estimation_figure_4/noglobalalphadotavg_vel_ests_for_rfs_noisy_squareafteravg\n",
      "49\n",
      "[2, 0.06574218750000008]\n",
      "../../2021_velocity_estimation_figure_4/noglobalalphadotavg_vel_ests_for_rfs_noisy_squareafteravg\n",
      "49\n",
      "[2, 0.06861328125000006]\n",
      "../../2021_velocity_estimation_figure_4/noglobalalphadotavg_vel_ests_for_rfs_noisy_squareafteravg\n",
      "49\n",
      "[1, 0.06339263343811027]\n",
      "../../2021_velocity_estimation_figure_4/noglobalalphadotavg_vel_ests_for_rfs_noisy_squareafteravg\n",
      "49\n",
      "[1, 0.05710937500000009]\n",
      "../../2021_velocity_estimation_figure_4/noglobalalphadotavg_vel_ests_for_rfs_noisy_squareafteravg\n",
      "49\n",
      "[2, 0.05757812500000008]\n",
      "../../2021_velocity_estimation_figure_4/noglobalalphadotavg_vel_ests_for_rfs_noisy_squareafteravg\n",
      "49\n",
      "[2, 0.058945312500000076]\n",
      "../../2021_velocity_estimation_figure_4/noglobalalphadotavg_vel_ests_for_rfs_noisy_squareafteravg\n",
      "49\n",
      "[2, 0.059843750000000084]\n",
      "../../2021_velocity_estimation_figure_4/noglobalalphadotavg_vel_ests_for_rfs_noisy_squareafteravg\n",
      "49\n",
      "[2, 0.08114257812500006]\n",
      "../../2021_velocity_estimation_figure_4/noglobalalphadotavg_vel_ests_for_rfs_noisy_squareafteravg\n",
      "49\n",
      "[2, 0.08166015625000009]\n",
      "../../2021_velocity_estimation_figure_4/noglobalalphadotavg_vel_ests_for_rfs_noisy_squareafteravg\n",
      "49\n",
      "[2, 0.06858398437500007]\n",
      "../../2021_velocity_estimation_figure_4/noglobalalphadotavg_vel_ests_for_rfs_noisy_squareafteravg\n",
      "49\n",
      "[2, 0.06574218750000008]\n",
      "../../2021_velocity_estimation_figure_4/noglobalalphadotavg_vel_ests_for_rfs_noisy_squareafteravg\n",
      "49\n",
      "[2, 0.06861328125000006]\n",
      "../../2021_velocity_estimation_figure_4/noglobalalphadotavg_vel_ests_for_rfs_noisy_squareafteravg\n",
      "49\n",
      "[1, 0.06339263343811027]\n",
      "../../2021_velocity_estimation_figure_4/noglobalalphadotavg_vel_ests_for_rfs_noisy_squareafteravg\n",
      "49\n"
     ]
    },
    {
     "name": "stdout",
     "output_type": "stream",
     "text": [
      "[1, 0.05710937500000009]\n",
      "../../2021_velocity_estimation_figure_4/noglobalalphadotavg_vel_ests_for_rfs_noisy_squareafteravg\n",
      "49\n",
      "[2, 0.05757812500000008]\n",
      "../../2021_velocity_estimation_figure_4/noglobalalphadotavg_vel_ests_for_rfs_noisy_squareafteravg\n",
      "49\n",
      "[2, 0.058945312500000076]\n",
      "../../2021_velocity_estimation_figure_4/noglobalalphadotavg_vel_ests_for_rfs_noisy_squareafteravg\n",
      "49\n",
      "[2, 0.059843750000000084]\n",
      "../../2021_velocity_estimation_figure_4/noglobalalphadotavg_vel_ests_for_rfs_noisy_squareafteravg\n",
      "49\n",
      "[2, 0.08114257812500006]\n",
      "../../2021_velocity_estimation_figure_4/noglobalalphadotavg_vel_ests_for_rfs_noisy_squareafteravg\n",
      "49\n",
      "[2, 0.08166015625000009]\n",
      "../../2021_velocity_estimation_figure_4/noglobalalphadotavg_vel_ests_for_rfs_noisy_squareafteravg\n",
      "49\n",
      "[2, 0.06858398437500007]\n",
      "../../2021_velocity_estimation_figure_4/noglobalalphadotavg_vel_ests_for_rfs_noisy_squareafteravg\n",
      "49\n",
      "[2, 0.06574218750000008]\n",
      "../../2021_velocity_estimation_figure_4/noglobalalphadotavg_vel_ests_for_rfs_noisy_squareafteravg\n",
      "49\n",
      "[2, 0.06861328125000006]\n",
      "../../2021_velocity_estimation_figure_4/noglobalalphadotavg_vel_ests_for_rfs_noisy_squareafteravg\n",
      "49\n",
      "[1, 0.06339263343811027]\n",
      "../../2021_velocity_estimation_figure_4/noglobalalphadotavg_vel_ests_for_rfs_noisy_squareafteravg\n",
      "49\n",
      "[1, 0.05710937500000009]\n",
      "../../2021_velocity_estimation_figure_4/noglobalalphadotavg_vel_ests_for_rfs_noisy_squareafteravg\n",
      "49\n",
      "[2, 0.05757812500000008]\n",
      "../../2021_velocity_estimation_figure_4/noglobalalphadotavg_vel_ests_for_rfs_noisy_squareafteravg\n",
      "49\n",
      "[2, 0.058945312500000076]\n",
      "../../2021_velocity_estimation_figure_4/noglobalalphadotavg_vel_ests_for_rfs_noisy_squareafteravg\n",
      "49\n",
      "[2, 0.059843750000000084]\n",
      "../../2021_velocity_estimation_figure_4/noglobalalphadotavg_vel_ests_for_rfs_noisy_squareafteravg\n",
      "49\n",
      "[2, 0.08114257812500006]\n",
      "../../2021_velocity_estimation_figure_4/noglobalalphadotavg_vel_ests_for_rfs_noisy_squareafteravg\n",
      "49\n",
      "[2, 0.08166015625000009]\n",
      "../../2021_velocity_estimation_figure_4/noglobalalphadotavg_vel_ests_for_rfs_noisy_squareafteravg\n",
      "49\n",
      "[2, 0.06858398437500007]\n",
      "../../2021_velocity_estimation_figure_4/noglobalalphadotavg_vel_ests_for_rfs_noisy_squareafteravg\n",
      "49\n",
      "[2, 0.06574218750000008]\n",
      "../../2021_velocity_estimation_figure_4/noglobalalphadotavg_vel_ests_for_rfs_noisy_squareafteravg\n",
      "49\n",
      "[2, 0.06861328125000006]\n",
      "../../2021_velocity_estimation_figure_4/noglobalalphadotavg_vel_ests_for_rfs_noisy_squareafteravg\n",
      "49\n",
      "[1, 0.06339263343811027]\n",
      "../../2021_velocity_estimation_figure_4/noglobalalphadotavg_vel_ests_for_rfs_noisy_squareafteravg\n",
      "49\n",
      "[1, 0.05710937500000009]\n",
      "../../2021_velocity_estimation_figure_4/noglobalalphadotavg_vel_ests_for_rfs_noisy_squareafteravg\n",
      "49\n",
      "[2, 0.05757812500000008]\n",
      "../../2021_velocity_estimation_figure_4/noglobalalphadotavg_vel_ests_for_rfs_noisy_squareafteravg\n",
      "49\n",
      "[2, 0.058945312500000076]\n",
      "../../2021_velocity_estimation_figure_4/noglobalalphadotavg_vel_ests_for_rfs_noisy_squareafteravg\n",
      "49\n",
      "[2, 0.059843750000000084]\n",
      "../../2021_velocity_estimation_figure_4/noglobalalphadotavg_vel_ests_for_rfs_noisy_squareafteravg\n",
      "49\n",
      "[2, 0.08114257812500006]\n",
      "../../2021_velocity_estimation_figure_4/noglobalalphadotavg_vel_ests_for_rfs_noisy_squareafteravg\n",
      "49\n",
      "[2, 0.08166015625000009]\n",
      "../../2021_velocity_estimation_figure_4/noglobalalphadotavg_vel_ests_for_rfs_noisy_squareafteravg\n",
      "49\n",
      "[2, 0.06858398437500007]\n",
      "../../2021_velocity_estimation_figure_4/noglobalalphadotavg_vel_ests_for_rfs_noisy_squareafteravg\n",
      "49\n",
      "[2, 0.06574218750000008]\n",
      "../../2021_velocity_estimation_figure_4/noglobalalphadotavg_vel_ests_for_rfs_noisy_squareafteravg\n",
      "49\n",
      "[2, 0.06861328125000006]\n",
      "../../2021_velocity_estimation_figure_4/noglobalalphadotavg_vel_ests_for_rfs_noisy_squareafteravg\n",
      "49\n",
      "[1, 0.06339263343811027]\n",
      "../../2021_velocity_estimation_figure_4/noglobalalphadotavg_vel_ests_for_rfs_noisy_squareafteravg\n",
      "49\n",
      "[1, 0.05710937500000009]\n",
      "../../2021_velocity_estimation_figure_4/noglobalalphadotavg_vel_ests_for_rfs_noisy_squareafteravg\n",
      "49\n",
      "[2, 0.05757812500000008]\n",
      "../../2021_velocity_estimation_figure_4/noglobalalphadotavg_vel_ests_for_rfs_noisy_squareafteravg\n",
      "49\n",
      "[2, 0.058945312500000076]\n",
      "../../2021_velocity_estimation_figure_4/noglobalalphadotavg_vel_ests_for_rfs_noisy_squareafteravg\n",
      "49\n",
      "[2, 0.059843750000000084]\n"
     ]
    }
   ],
   "source": [
    "def get_rmses_for_window_repeated_noisy(N_windows, repeats=10):\n",
    "    directory = '../../Figure_4/noglobalalphadotavg_vel_ests_for_rfs_noisy_squareafteravg'\n",
    "    repeated_rmses = []\n",
    "    for repeat in range(repeats):\n",
    "        rmses = []\n",
    "        for window in windows:\n",
    "            rmse = get_rmse_for_window(directory, window, tvgamma=1, N_windows=N_windows)\n",
    "            rmses.append(rmse)\n",
    "        repeated_rmses.append(rmses)\n",
    "    return np.mean(repeated_rmses, axis=0)\n",
    "\n",
    "noisy_rmses_all = get_rmses_for_window_repeated_noisy('all', repeats=10)"
   ]
  },
  {
   "cell_type": "code",
   "execution_count": 19,
   "metadata": {},
   "outputs": [
    {
     "name": "stdout",
     "output_type": "stream",
     "text": [
      "../../2021_velocity_estimation_figure_4/noglobalalphadotavg_vel_ests_for_rfs_nonoise_squareafteravg\n",
      "49\n"
     ]
    },
    {
     "name": "stderr",
     "output_type": "stream",
     "text": [
      "/home/caveman/BMD2/lib/python3.5/site-packages/scipy-1.1.0-py3.5-linux-x86_64.egg/scipy/signal/_arraytools.py:45: FutureWarning: Using a non-tuple sequence for multidimensional indexing is deprecated; use `arr[tuple(seq)]` instead of `arr[seq]`. In the future this will be interpreted as an array index, `arr[np.array(seq)]`, which will result either in an error or a different result.\n",
      "  b = a[a_slice]\n",
      "/home/caveman/BMD2/lib/python3.5/site-packages/scipy-1.1.0-py3.5-linux-x86_64.egg/scipy/signal/_arraytools.py:45: FutureWarning: Using a non-tuple sequence for multidimensional indexing is deprecated; use `arr[tuple(seq)]` instead of `arr[seq]`. In the future this will be interpreted as an array index, `arr[np.array(seq)]`, which will result either in an error or a different result.\n",
      "  b = a[a_slice]\n",
      "/home/caveman/BMD2/lib/python3.5/site-packages/scipy-1.1.0-py3.5-linux-x86_64.egg/scipy/signal/_arraytools.py:45: FutureWarning: Using a non-tuple sequence for multidimensional indexing is deprecated; use `arr[tuple(seq)]` instead of `arr[seq]`. In the future this will be interpreted as an array index, `arr[np.array(seq)]`, which will result either in an error or a different result.\n",
      "  b = a[a_slice]\n",
      "/home/caveman/BMD2/lib/python3.5/site-packages/scipy-1.1.0-py3.5-linux-x86_64.egg/scipy/signal/_arraytools.py:45: FutureWarning: Using a non-tuple sequence for multidimensional indexing is deprecated; use `arr[tuple(seq)]` instead of `arr[seq]`. In the future this will be interpreted as an array index, `arr[np.array(seq)]`, which will result either in an error or a different result.\n",
      "  b = a[a_slice]\n",
      "/home/caveman/BMD2/lib/python3.5/site-packages/scipy-1.1.0-py3.5-linux-x86_64.egg/scipy/signal/_arraytools.py:45: FutureWarning: Using a non-tuple sequence for multidimensional indexing is deprecated; use `arr[tuple(seq)]` instead of `arr[seq]`. In the future this will be interpreted as an array index, `arr[np.array(seq)]`, which will result either in an error or a different result.\n",
      "  b = a[a_slice]\n",
      "/home/caveman/BMD2/lib/python3.5/site-packages/scipy-1.1.0-py3.5-linux-x86_64.egg/scipy/signal/_arraytools.py:45: FutureWarning: Using a non-tuple sequence for multidimensional indexing is deprecated; use `arr[tuple(seq)]` instead of `arr[seq]`. In the future this will be interpreted as an array index, `arr[np.array(seq)]`, which will result either in an error or a different result.\n",
      "  b = a[a_slice]\n",
      "/home/caveman/BMD2/lib/python3.5/site-packages/scipy-1.1.0-py3.5-linux-x86_64.egg/scipy/signal/_arraytools.py:45: FutureWarning: Using a non-tuple sequence for multidimensional indexing is deprecated; use `arr[tuple(seq)]` instead of `arr[seq]`. In the future this will be interpreted as an array index, `arr[np.array(seq)]`, which will result either in an error or a different result.\n",
      "  b = a[a_slice]\n",
      "/home/caveman/BMD2/lib/python3.5/site-packages/scipy-1.1.0-py3.5-linux-x86_64.egg/scipy/signal/_arraytools.py:45: FutureWarning: Using a non-tuple sequence for multidimensional indexing is deprecated; use `arr[tuple(seq)]` instead of `arr[seq]`. In the future this will be interpreted as an array index, `arr[np.array(seq)]`, which will result either in an error or a different result.\n",
      "  b = a[a_slice]\n",
      "/home/caveman/BMD2/lib/python3.5/site-packages/scipy-1.1.0-py3.5-linux-x86_64.egg/scipy/signal/_arraytools.py:45: FutureWarning: Using a non-tuple sequence for multidimensional indexing is deprecated; use `arr[tuple(seq)]` instead of `arr[seq]`. In the future this will be interpreted as an array index, `arr[np.array(seq)]`, which will result either in an error or a different result.\n",
      "  b = a[a_slice]\n",
      "/home/caveman/BMD2/lib/python3.5/site-packages/scipy-1.1.0-py3.5-linux-x86_64.egg/scipy/signal/_arraytools.py:45: FutureWarning: Using a non-tuple sequence for multidimensional indexing is deprecated; use `arr[tuple(seq)]` instead of `arr[seq]`. In the future this will be interpreted as an array index, `arr[np.array(seq)]`, which will result either in an error or a different result.\n",
      "  b = a[a_slice]\n",
      "/home/caveman/BMD2/lib/python3.5/site-packages/scipy-1.1.0-py3.5-linux-x86_64.egg/scipy/signal/_arraytools.py:45: FutureWarning: Using a non-tuple sequence for multidimensional indexing is deprecated; use `arr[tuple(seq)]` instead of `arr[seq]`. In the future this will be interpreted as an array index, `arr[np.array(seq)]`, which will result either in an error or a different result.\n",
      "  b = a[a_slice]\n",
      "/home/caveman/BMD2/lib/python3.5/site-packages/scipy-1.1.0-py3.5-linux-x86_64.egg/scipy/signal/_arraytools.py:45: FutureWarning: Using a non-tuple sequence for multidimensional indexing is deprecated; use `arr[tuple(seq)]` instead of `arr[seq]`. In the future this will be interpreted as an array index, `arr[np.array(seq)]`, which will result either in an error or a different result.\n",
      "  b = a[a_slice]\n",
      "/home/caveman/BMD2/lib/python3.5/site-packages/scipy-1.1.0-py3.5-linux-x86_64.egg/scipy/signal/_arraytools.py:45: FutureWarning: Using a non-tuple sequence for multidimensional indexing is deprecated; use `arr[tuple(seq)]` instead of `arr[seq]`. In the future this will be interpreted as an array index, `arr[np.array(seq)]`, which will result either in an error or a different result.\n",
      "  b = a[a_slice]\n",
      "/home/caveman/BMD2/lib/python3.5/site-packages/scipy-1.1.0-py3.5-linux-x86_64.egg/scipy/signal/_arraytools.py:45: FutureWarning: Using a non-tuple sequence for multidimensional indexing is deprecated; use `arr[tuple(seq)]` instead of `arr[seq]`. In the future this will be interpreted as an array index, `arr[np.array(seq)]`, which will result either in an error or a different result.\n",
      "  b = a[a_slice]\n",
      "/home/caveman/BMD2/lib/python3.5/site-packages/scipy-1.1.0-py3.5-linux-x86_64.egg/scipy/signal/_arraytools.py:45: FutureWarning: Using a non-tuple sequence for multidimensional indexing is deprecated; use `arr[tuple(seq)]` instead of `arr[seq]`. In the future this will be interpreted as an array index, `arr[np.array(seq)]`, which will result either in an error or a different result.\n",
      "  b = a[a_slice]\n",
      "/home/caveman/BMD2/lib/python3.5/site-packages/scipy-1.1.0-py3.5-linux-x86_64.egg/scipy/signal/_arraytools.py:45: FutureWarning: Using a non-tuple sequence for multidimensional indexing is deprecated; use `arr[tuple(seq)]` instead of `arr[seq]`. In the future this will be interpreted as an array index, `arr[np.array(seq)]`, which will result either in an error or a different result.\n",
      "  b = a[a_slice]\n",
      "/home/caveman/BMD2/lib/python3.5/site-packages/scipy-1.1.0-py3.5-linux-x86_64.egg/scipy/signal/_arraytools.py:45: FutureWarning: Using a non-tuple sequence for multidimensional indexing is deprecated; use `arr[tuple(seq)]` instead of `arr[seq]`. In the future this will be interpreted as an array index, `arr[np.array(seq)]`, which will result either in an error or a different result.\n",
      "  b = a[a_slice]\n",
      "/home/caveman/BMD2/lib/python3.5/site-packages/scipy-1.1.0-py3.5-linux-x86_64.egg/scipy/signal/_arraytools.py:45: FutureWarning: Using a non-tuple sequence for multidimensional indexing is deprecated; use `arr[tuple(seq)]` instead of `arr[seq]`. In the future this will be interpreted as an array index, `arr[np.array(seq)]`, which will result either in an error or a different result.\n",
      "  b = a[a_slice]\n",
      "/home/caveman/BMD2/lib/python3.5/site-packages/scipy-1.1.0-py3.5-linux-x86_64.egg/scipy/signal/_arraytools.py:45: FutureWarning: Using a non-tuple sequence for multidimensional indexing is deprecated; use `arr[tuple(seq)]` instead of `arr[seq]`. In the future this will be interpreted as an array index, `arr[np.array(seq)]`, which will result either in an error or a different result.\n",
      "  b = a[a_slice]\n",
      "/home/caveman/BMD2/lib/python3.5/site-packages/scipy-1.1.0-py3.5-linux-x86_64.egg/scipy/signal/_arraytools.py:45: FutureWarning: Using a non-tuple sequence for multidimensional indexing is deprecated; use `arr[tuple(seq)]` instead of `arr[seq]`. In the future this will be interpreted as an array index, `arr[np.array(seq)]`, which will result either in an error or a different result.\n",
      "  b = a[a_slice]\n",
      "/home/caveman/BMD2/lib/python3.5/site-packages/scipy-1.1.0-py3.5-linux-x86_64.egg/scipy/signal/_arraytools.py:45: FutureWarning: Using a non-tuple sequence for multidimensional indexing is deprecated; use `arr[tuple(seq)]` instead of `arr[seq]`. In the future this will be interpreted as an array index, `arr[np.array(seq)]`, which will result either in an error or a different result.\n",
      "  b = a[a_slice]\n"
     ]
    },
    {
     "name": "stderr",
     "output_type": "stream",
     "text": [
      "/home/caveman/BMD2/lib/python3.5/site-packages/scipy-1.1.0-py3.5-linux-x86_64.egg/scipy/signal/_arraytools.py:45: FutureWarning: Using a non-tuple sequence for multidimensional indexing is deprecated; use `arr[tuple(seq)]` instead of `arr[seq]`. In the future this will be interpreted as an array index, `arr[np.array(seq)]`, which will result either in an error or a different result.\n",
      "  b = a[a_slice]\n",
      "/home/caveman/BMD2/lib/python3.5/site-packages/scipy-1.1.0-py3.5-linux-x86_64.egg/scipy/signal/_arraytools.py:45: FutureWarning: Using a non-tuple sequence for multidimensional indexing is deprecated; use `arr[tuple(seq)]` instead of `arr[seq]`. In the future this will be interpreted as an array index, `arr[np.array(seq)]`, which will result either in an error or a different result.\n",
      "  b = a[a_slice]\n",
      "/home/caveman/BMD2/lib/python3.5/site-packages/scipy-1.1.0-py3.5-linux-x86_64.egg/scipy/signal/_arraytools.py:45: FutureWarning: Using a non-tuple sequence for multidimensional indexing is deprecated; use `arr[tuple(seq)]` instead of `arr[seq]`. In the future this will be interpreted as an array index, `arr[np.array(seq)]`, which will result either in an error or a different result.\n",
      "  b = a[a_slice]\n",
      "/home/caveman/BMD2/lib/python3.5/site-packages/scipy-1.1.0-py3.5-linux-x86_64.egg/scipy/signal/_arraytools.py:45: FutureWarning: Using a non-tuple sequence for multidimensional indexing is deprecated; use `arr[tuple(seq)]` instead of `arr[seq]`. In the future this will be interpreted as an array index, `arr[np.array(seq)]`, which will result either in an error or a different result.\n",
      "  b = a[a_slice]\n",
      "/home/caveman/BMD2/lib/python3.5/site-packages/scipy-1.1.0-py3.5-linux-x86_64.egg/scipy/signal/_arraytools.py:45: FutureWarning: Using a non-tuple sequence for multidimensional indexing is deprecated; use `arr[tuple(seq)]` instead of `arr[seq]`. In the future this will be interpreted as an array index, `arr[np.array(seq)]`, which will result either in an error or a different result.\n",
      "  b = a[a_slice]\n",
      "/home/caveman/BMD2/lib/python3.5/site-packages/scipy-1.1.0-py3.5-linux-x86_64.egg/scipy/signal/_arraytools.py:45: FutureWarning: Using a non-tuple sequence for multidimensional indexing is deprecated; use `arr[tuple(seq)]` instead of `arr[seq]`. In the future this will be interpreted as an array index, `arr[np.array(seq)]`, which will result either in an error or a different result.\n",
      "  b = a[a_slice]\n",
      "/home/caveman/BMD2/lib/python3.5/site-packages/scipy-1.1.0-py3.5-linux-x86_64.egg/scipy/signal/_arraytools.py:45: FutureWarning: Using a non-tuple sequence for multidimensional indexing is deprecated; use `arr[tuple(seq)]` instead of `arr[seq]`. In the future this will be interpreted as an array index, `arr[np.array(seq)]`, which will result either in an error or a different result.\n",
      "  b = a[a_slice]\n",
      "/home/caveman/BMD2/lib/python3.5/site-packages/scipy-1.1.0-py3.5-linux-x86_64.egg/scipy/signal/_arraytools.py:45: FutureWarning: Using a non-tuple sequence for multidimensional indexing is deprecated; use `arr[tuple(seq)]` instead of `arr[seq]`. In the future this will be interpreted as an array index, `arr[np.array(seq)]`, which will result either in an error or a different result.\n",
      "  b = a[a_slice]\n",
      "/home/caveman/BMD2/lib/python3.5/site-packages/scipy-1.1.0-py3.5-linux-x86_64.egg/scipy/signal/_arraytools.py:45: FutureWarning: Using a non-tuple sequence for multidimensional indexing is deprecated; use `arr[tuple(seq)]` instead of `arr[seq]`. In the future this will be interpreted as an array index, `arr[np.array(seq)]`, which will result either in an error or a different result.\n",
      "  b = a[a_slice]\n",
      "/home/caveman/BMD2/lib/python3.5/site-packages/scipy-1.1.0-py3.5-linux-x86_64.egg/scipy/signal/_arraytools.py:45: FutureWarning: Using a non-tuple sequence for multidimensional indexing is deprecated; use `arr[tuple(seq)]` instead of `arr[seq]`. In the future this will be interpreted as an array index, `arr[np.array(seq)]`, which will result either in an error or a different result.\n",
      "  b = a[a_slice]\n",
      "/home/caveman/BMD2/lib/python3.5/site-packages/scipy-1.1.0-py3.5-linux-x86_64.egg/scipy/signal/_arraytools.py:45: FutureWarning: Using a non-tuple sequence for multidimensional indexing is deprecated; use `arr[tuple(seq)]` instead of `arr[seq]`. In the future this will be interpreted as an array index, `arr[np.array(seq)]`, which will result either in an error or a different result.\n",
      "  b = a[a_slice]\n"
     ]
    },
    {
     "name": "stdout",
     "output_type": "stream",
     "text": [
      "[2, 0.06140625000000008]\n",
      "../../2021_velocity_estimation_figure_4/noglobalalphadotavg_vel_ests_for_rfs_nonoise_squareafteravg\n",
      "49\n"
     ]
    },
    {
     "name": "stderr",
     "output_type": "stream",
     "text": [
      "/home/caveman/BMD2/lib/python3.5/site-packages/scipy-1.1.0-py3.5-linux-x86_64.egg/scipy/signal/_arraytools.py:45: FutureWarning: Using a non-tuple sequence for multidimensional indexing is deprecated; use `arr[tuple(seq)]` instead of `arr[seq]`. In the future this will be interpreted as an array index, `arr[np.array(seq)]`, which will result either in an error or a different result.\n",
      "  b = a[a_slice]\n"
     ]
    },
    {
     "name": "stdout",
     "output_type": "stream",
     "text": [
      "[2, 0.06324218750000007]\n",
      "../../2021_velocity_estimation_figure_4/noglobalalphadotavg_vel_ests_for_rfs_nonoise_squareafteravg\n",
      "49\n",
      "[2, 0.0647167968750001]\n",
      "../../2021_velocity_estimation_figure_4/noglobalalphadotavg_vel_ests_for_rfs_nonoise_squareafteravg\n",
      "49\n",
      "[2, 0.06564453125000011]\n",
      "../../2021_velocity_estimation_figure_4/noglobalalphadotavg_vel_ests_for_rfs_nonoise_squareafteravg\n",
      "49\n",
      "[2, 0.06667968750000008]\n",
      "../../2021_velocity_estimation_figure_4/noglobalalphadotavg_vel_ests_for_rfs_nonoise_squareafteravg\n",
      "49\n",
      "[1, 0.06164062500000009]\n",
      "../../2021_velocity_estimation_figure_4/noglobalalphadotavg_vel_ests_for_rfs_nonoise_squareafteravg\n",
      "49\n",
      "[1, 0.05723242187499994]\n",
      "../../2021_velocity_estimation_figure_4/noglobalalphadotavg_vel_ests_for_rfs_nonoise_squareafteravg\n",
      "49\n",
      "[2, 0.05789062500000007]\n",
      "../../2021_velocity_estimation_figure_4/noglobalalphadotavg_vel_ests_for_rfs_nonoise_squareafteravg\n",
      "49\n",
      "[2, 0.05734375000000008]\n",
      "../../2021_velocity_estimation_figure_4/noglobalalphadotavg_vel_ests_for_rfs_nonoise_squareafteravg\n",
      "49\n",
      "[2, 0.05515625000000009]\n",
      "../../2021_velocity_estimation_figure_4/noglobalalphadotavg_vel_ests_for_rfs_nonoise_squareafteravg\n",
      "49\n",
      "[2, 0.06140625000000008]\n",
      "../../2021_velocity_estimation_figure_4/noglobalalphadotavg_vel_ests_for_rfs_nonoise_squareafteravg\n",
      "49\n",
      "[2, 0.06324218750000007]\n",
      "../../2021_velocity_estimation_figure_4/noglobalalphadotavg_vel_ests_for_rfs_nonoise_squareafteravg\n",
      "49\n",
      "[2, 0.0647167968750001]\n",
      "../../2021_velocity_estimation_figure_4/noglobalalphadotavg_vel_ests_for_rfs_nonoise_squareafteravg\n",
      "49\n",
      "[2, 0.06564453125000011]\n",
      "../../2021_velocity_estimation_figure_4/noglobalalphadotavg_vel_ests_for_rfs_nonoise_squareafteravg\n",
      "49\n",
      "[2, 0.06667968750000008]\n",
      "../../2021_velocity_estimation_figure_4/noglobalalphadotavg_vel_ests_for_rfs_nonoise_squareafteravg\n",
      "49\n",
      "[1, 0.06164062500000009]\n",
      "../../2021_velocity_estimation_figure_4/noglobalalphadotavg_vel_ests_for_rfs_nonoise_squareafteravg\n",
      "49\n",
      "[1, 0.05723242187499994]\n",
      "../../2021_velocity_estimation_figure_4/noglobalalphadotavg_vel_ests_for_rfs_nonoise_squareafteravg\n",
      "49\n",
      "[2, 0.05789062500000007]\n",
      "../../2021_velocity_estimation_figure_4/noglobalalphadotavg_vel_ests_for_rfs_nonoise_squareafteravg\n",
      "49\n",
      "[2, 0.05734375000000008]\n",
      "../../2021_velocity_estimation_figure_4/noglobalalphadotavg_vel_ests_for_rfs_nonoise_squareafteravg\n",
      "49\n",
      "[2, 0.05515625000000009]\n",
      "../../2021_velocity_estimation_figure_4/noglobalalphadotavg_vel_ests_for_rfs_nonoise_squareafteravg\n",
      "49\n",
      "[2, 0.06140625000000008]\n",
      "../../2021_velocity_estimation_figure_4/noglobalalphadotavg_vel_ests_for_rfs_nonoise_squareafteravg\n",
      "49\n",
      "[2, 0.06324218750000007]\n",
      "../../2021_velocity_estimation_figure_4/noglobalalphadotavg_vel_ests_for_rfs_nonoise_squareafteravg\n",
      "49\n",
      "[2, 0.0647167968750001]\n",
      "../../2021_velocity_estimation_figure_4/noglobalalphadotavg_vel_ests_for_rfs_nonoise_squareafteravg\n",
      "49\n",
      "[2, 0.06564453125000011]\n",
      "../../2021_velocity_estimation_figure_4/noglobalalphadotavg_vel_ests_for_rfs_nonoise_squareafteravg\n",
      "49\n",
      "[2, 0.06667968750000008]\n",
      "../../2021_velocity_estimation_figure_4/noglobalalphadotavg_vel_ests_for_rfs_nonoise_squareafteravg\n",
      "49\n",
      "[1, 0.06164062500000009]\n",
      "../../2021_velocity_estimation_figure_4/noglobalalphadotavg_vel_ests_for_rfs_nonoise_squareafteravg\n",
      "49\n",
      "[1, 0.05723242187499994]\n",
      "../../2021_velocity_estimation_figure_4/noglobalalphadotavg_vel_ests_for_rfs_nonoise_squareafteravg\n",
      "49\n",
      "[2, 0.05789062500000007]\n",
      "../../2021_velocity_estimation_figure_4/noglobalalphadotavg_vel_ests_for_rfs_nonoise_squareafteravg\n",
      "49\n",
      "[2, 0.05734375000000008]\n",
      "../../2021_velocity_estimation_figure_4/noglobalalphadotavg_vel_ests_for_rfs_nonoise_squareafteravg\n",
      "49\n",
      "[2, 0.05515625000000009]\n",
      "../../2021_velocity_estimation_figure_4/noglobalalphadotavg_vel_ests_for_rfs_nonoise_squareafteravg\n",
      "49\n",
      "[2, 0.06140625000000008]\n",
      "../../2021_velocity_estimation_figure_4/noglobalalphadotavg_vel_ests_for_rfs_nonoise_squareafteravg\n",
      "49\n",
      "[2, 0.06324218750000007]\n",
      "../../2021_velocity_estimation_figure_4/noglobalalphadotavg_vel_ests_for_rfs_nonoise_squareafteravg\n",
      "49\n",
      "[2, 0.0647167968750001]\n",
      "../../2021_velocity_estimation_figure_4/noglobalalphadotavg_vel_ests_for_rfs_nonoise_squareafteravg\n",
      "49\n",
      "[2, 0.06564453125000011]\n",
      "../../2021_velocity_estimation_figure_4/noglobalalphadotavg_vel_ests_for_rfs_nonoise_squareafteravg\n",
      "49\n",
      "[2, 0.06667968750000008]\n",
      "../../2021_velocity_estimation_figure_4/noglobalalphadotavg_vel_ests_for_rfs_nonoise_squareafteravg\n",
      "49\n",
      "[1, 0.06164062500000009]\n",
      "../../2021_velocity_estimation_figure_4/noglobalalphadotavg_vel_ests_for_rfs_nonoise_squareafteravg\n",
      "49\n",
      "[1, 0.05723242187499994]\n",
      "../../2021_velocity_estimation_figure_4/noglobalalphadotavg_vel_ests_for_rfs_nonoise_squareafteravg\n",
      "49\n",
      "[2, 0.05789062500000007]\n",
      "../../2021_velocity_estimation_figure_4/noglobalalphadotavg_vel_ests_for_rfs_nonoise_squareafteravg\n",
      "49\n",
      "[2, 0.05734375000000008]\n",
      "../../2021_velocity_estimation_figure_4/noglobalalphadotavg_vel_ests_for_rfs_nonoise_squareafteravg\n",
      "49\n",
      "[2, 0.05515625000000009]\n",
      "../../2021_velocity_estimation_figure_4/noglobalalphadotavg_vel_ests_for_rfs_nonoise_squareafteravg\n",
      "49\n",
      "[2, 0.06140625000000008]\n",
      "../../2021_velocity_estimation_figure_4/noglobalalphadotavg_vel_ests_for_rfs_nonoise_squareafteravg\n",
      "49\n",
      "[2, 0.06324218750000007]\n",
      "../../2021_velocity_estimation_figure_4/noglobalalphadotavg_vel_ests_for_rfs_nonoise_squareafteravg\n",
      "49\n",
      "[2, 0.0647167968750001]\n",
      "../../2021_velocity_estimation_figure_4/noglobalalphadotavg_vel_ests_for_rfs_nonoise_squareafteravg\n",
      "49\n",
      "[2, 0.06564453125000011]\n",
      "../../2021_velocity_estimation_figure_4/noglobalalphadotavg_vel_ests_for_rfs_nonoise_squareafteravg\n",
      "49\n",
      "[2, 0.06667968750000008]\n",
      "../../2021_velocity_estimation_figure_4/noglobalalphadotavg_vel_ests_for_rfs_nonoise_squareafteravg\n",
      "49\n",
      "[1, 0.06164062500000009]\n",
      "../../2021_velocity_estimation_figure_4/noglobalalphadotavg_vel_ests_for_rfs_nonoise_squareafteravg\n",
      "49\n",
      "[1, 0.05723242187499994]\n",
      "../../2021_velocity_estimation_figure_4/noglobalalphadotavg_vel_ests_for_rfs_nonoise_squareafteravg\n",
      "49\n",
      "[2, 0.05789062500000007]\n",
      "../../2021_velocity_estimation_figure_4/noglobalalphadotavg_vel_ests_for_rfs_nonoise_squareafteravg\n",
      "49\n",
      "[2, 0.05734375000000008]\n",
      "../../2021_velocity_estimation_figure_4/noglobalalphadotavg_vel_ests_for_rfs_nonoise_squareafteravg\n",
      "49\n",
      "[2, 0.05515625000000009]\n",
      "../../2021_velocity_estimation_figure_4/noglobalalphadotavg_vel_ests_for_rfs_nonoise_squareafteravg\n",
      "49\n",
      "[2, 0.06140625000000008]\n",
      "../../2021_velocity_estimation_figure_4/noglobalalphadotavg_vel_ests_for_rfs_nonoise_squareafteravg\n",
      "49\n",
      "[2, 0.06324218750000007]\n",
      "../../2021_velocity_estimation_figure_4/noglobalalphadotavg_vel_ests_for_rfs_nonoise_squareafteravg\n",
      "49\n",
      "[2, 0.0647167968750001]\n",
      "../../2021_velocity_estimation_figure_4/noglobalalphadotavg_vel_ests_for_rfs_nonoise_squareafteravg\n",
      "49\n",
      "[2, 0.06564453125000011]\n",
      "../../2021_velocity_estimation_figure_4/noglobalalphadotavg_vel_ests_for_rfs_nonoise_squareafteravg\n",
      "49\n",
      "[2, 0.06667968750000008]\n",
      "../../2021_velocity_estimation_figure_4/noglobalalphadotavg_vel_ests_for_rfs_nonoise_squareafteravg\n",
      "49\n",
      "[1, 0.06164062500000009]\n",
      "../../2021_velocity_estimation_figure_4/noglobalalphadotavg_vel_ests_for_rfs_nonoise_squareafteravg\n",
      "49\n",
      "[1, 0.05723242187499994]\n",
      "../../2021_velocity_estimation_figure_4/noglobalalphadotavg_vel_ests_for_rfs_nonoise_squareafteravg\n",
      "49\n",
      "[2, 0.05789062500000007]\n",
      "../../2021_velocity_estimation_figure_4/noglobalalphadotavg_vel_ests_for_rfs_nonoise_squareafteravg\n",
      "49\n",
      "[2, 0.05734375000000008]\n",
      "../../2021_velocity_estimation_figure_4/noglobalalphadotavg_vel_ests_for_rfs_nonoise_squareafteravg\n",
      "49\n",
      "[2, 0.05515625000000009]\n",
      "../../2021_velocity_estimation_figure_4/noglobalalphadotavg_vel_ests_for_rfs_nonoise_squareafteravg\n",
      "49\n",
      "[2, 0.06140625000000008]\n",
      "../../2021_velocity_estimation_figure_4/noglobalalphadotavg_vel_ests_for_rfs_nonoise_squareafteravg\n",
      "49\n",
      "[2, 0.06324218750000007]\n",
      "../../2021_velocity_estimation_figure_4/noglobalalphadotavg_vel_ests_for_rfs_nonoise_squareafteravg\n",
      "49\n",
      "[2, 0.0647167968750001]\n",
      "../../2021_velocity_estimation_figure_4/noglobalalphadotavg_vel_ests_for_rfs_nonoise_squareafteravg\n",
      "49\n",
      "[2, 0.06564453125000011]\n",
      "../../2021_velocity_estimation_figure_4/noglobalalphadotavg_vel_ests_for_rfs_nonoise_squareafteravg\n",
      "49\n",
      "[2, 0.06667968750000008]\n",
      "../../2021_velocity_estimation_figure_4/noglobalalphadotavg_vel_ests_for_rfs_nonoise_squareafteravg\n",
      "49\n",
      "[1, 0.06164062500000009]\n",
      "../../2021_velocity_estimation_figure_4/noglobalalphadotavg_vel_ests_for_rfs_nonoise_squareafteravg\n",
      "49\n"
     ]
    },
    {
     "name": "stdout",
     "output_type": "stream",
     "text": [
      "[1, 0.05723242187499994]\n",
      "../../2021_velocity_estimation_figure_4/noglobalalphadotavg_vel_ests_for_rfs_nonoise_squareafteravg\n",
      "49\n",
      "[2, 0.05789062500000007]\n",
      "../../2021_velocity_estimation_figure_4/noglobalalphadotavg_vel_ests_for_rfs_nonoise_squareafteravg\n",
      "49\n",
      "[2, 0.05734375000000008]\n",
      "../../2021_velocity_estimation_figure_4/noglobalalphadotavg_vel_ests_for_rfs_nonoise_squareafteravg\n",
      "49\n",
      "[2, 0.05515625000000009]\n",
      "../../2021_velocity_estimation_figure_4/noglobalalphadotavg_vel_ests_for_rfs_nonoise_squareafteravg\n",
      "49\n",
      "[2, 0.06140625000000008]\n",
      "../../2021_velocity_estimation_figure_4/noglobalalphadotavg_vel_ests_for_rfs_nonoise_squareafteravg\n",
      "49\n",
      "[2, 0.06324218750000007]\n",
      "../../2021_velocity_estimation_figure_4/noglobalalphadotavg_vel_ests_for_rfs_nonoise_squareafteravg\n",
      "49\n",
      "[2, 0.0647167968750001]\n",
      "../../2021_velocity_estimation_figure_4/noglobalalphadotavg_vel_ests_for_rfs_nonoise_squareafteravg\n",
      "49\n",
      "[2, 0.06564453125000011]\n",
      "../../2021_velocity_estimation_figure_4/noglobalalphadotavg_vel_ests_for_rfs_nonoise_squareafteravg\n",
      "49\n",
      "[2, 0.06667968750000008]\n",
      "../../2021_velocity_estimation_figure_4/noglobalalphadotavg_vel_ests_for_rfs_nonoise_squareafteravg\n",
      "49\n",
      "[1, 0.06164062500000009]\n",
      "../../2021_velocity_estimation_figure_4/noglobalalphadotavg_vel_ests_for_rfs_nonoise_squareafteravg\n",
      "49\n",
      "[1, 0.05723242187499994]\n",
      "../../2021_velocity_estimation_figure_4/noglobalalphadotavg_vel_ests_for_rfs_nonoise_squareafteravg\n",
      "49\n",
      "[2, 0.05789062500000007]\n",
      "../../2021_velocity_estimation_figure_4/noglobalalphadotavg_vel_ests_for_rfs_nonoise_squareafteravg\n",
      "49\n",
      "[2, 0.05734375000000008]\n",
      "../../2021_velocity_estimation_figure_4/noglobalalphadotavg_vel_ests_for_rfs_nonoise_squareafteravg\n",
      "49\n",
      "[2, 0.05515625000000009]\n",
      "../../2021_velocity_estimation_figure_4/noglobalalphadotavg_vel_ests_for_rfs_nonoise_squareafteravg\n",
      "49\n",
      "[2, 0.06140625000000008]\n",
      "../../2021_velocity_estimation_figure_4/noglobalalphadotavg_vel_ests_for_rfs_nonoise_squareafteravg\n",
      "49\n",
      "[2, 0.06324218750000007]\n",
      "../../2021_velocity_estimation_figure_4/noglobalalphadotavg_vel_ests_for_rfs_nonoise_squareafteravg\n",
      "49\n",
      "[2, 0.0647167968750001]\n",
      "../../2021_velocity_estimation_figure_4/noglobalalphadotavg_vel_ests_for_rfs_nonoise_squareafteravg\n",
      "49\n",
      "[2, 0.06564453125000011]\n",
      "../../2021_velocity_estimation_figure_4/noglobalalphadotavg_vel_ests_for_rfs_nonoise_squareafteravg\n",
      "49\n",
      "[2, 0.06667968750000008]\n",
      "../../2021_velocity_estimation_figure_4/noglobalalphadotavg_vel_ests_for_rfs_nonoise_squareafteravg\n",
      "49\n",
      "[1, 0.06164062500000009]\n",
      "../../2021_velocity_estimation_figure_4/noglobalalphadotavg_vel_ests_for_rfs_nonoise_squareafteravg\n",
      "49\n",
      "[1, 0.05723242187499994]\n",
      "../../2021_velocity_estimation_figure_4/noglobalalphadotavg_vel_ests_for_rfs_nonoise_squareafteravg\n",
      "49\n",
      "[2, 0.05789062500000007]\n",
      "../../2021_velocity_estimation_figure_4/noglobalalphadotavg_vel_ests_for_rfs_nonoise_squareafteravg\n",
      "49\n",
      "[2, 0.05734375000000008]\n",
      "../../2021_velocity_estimation_figure_4/noglobalalphadotavg_vel_ests_for_rfs_nonoise_squareafteravg\n",
      "49\n",
      "[2, 0.05515625000000009]\n",
      "../../2021_velocity_estimation_figure_4/noglobalalphadotavg_vel_ests_for_rfs_nonoise_squareafteravg\n",
      "49\n",
      "[2, 0.06140625000000008]\n",
      "../../2021_velocity_estimation_figure_4/noglobalalphadotavg_vel_ests_for_rfs_nonoise_squareafteravg\n",
      "49\n",
      "[2, 0.06324218750000007]\n",
      "../../2021_velocity_estimation_figure_4/noglobalalphadotavg_vel_ests_for_rfs_nonoise_squareafteravg\n",
      "49\n",
      "[2, 0.0647167968750001]\n",
      "../../2021_velocity_estimation_figure_4/noglobalalphadotavg_vel_ests_for_rfs_nonoise_squareafteravg\n",
      "49\n",
      "[2, 0.06564453125000011]\n",
      "../../2021_velocity_estimation_figure_4/noglobalalphadotavg_vel_ests_for_rfs_nonoise_squareafteravg\n",
      "49\n",
      "[2, 0.06667968750000008]\n",
      "../../2021_velocity_estimation_figure_4/noglobalalphadotavg_vel_ests_for_rfs_nonoise_squareafteravg\n",
      "49\n",
      "[1, 0.06164062500000009]\n",
      "../../2021_velocity_estimation_figure_4/noglobalalphadotavg_vel_ests_for_rfs_nonoise_squareafteravg\n",
      "49\n",
      "[1, 0.05723242187499994]\n",
      "../../2021_velocity_estimation_figure_4/noglobalalphadotavg_vel_ests_for_rfs_nonoise_squareafteravg\n",
      "49\n",
      "[2, 0.05789062500000007]\n",
      "../../2021_velocity_estimation_figure_4/noglobalalphadotavg_vel_ests_for_rfs_nonoise_squareafteravg\n",
      "49\n",
      "[2, 0.05734375000000008]\n",
      "../../2021_velocity_estimation_figure_4/noglobalalphadotavg_vel_ests_for_rfs_nonoise_squareafteravg\n",
      "49\n",
      "[2, 0.05515625000000009]\n"
     ]
    }
   ],
   "source": [
    "def get_rmses_for_window_repeated_nonoise(N_windows, repeats=10):\n",
    "    directory = '../../Figure_4/noglobalalphadotavg_vel_ests_for_rfs_nonoise_squareafteravg'\n",
    "    repeated_rmses = []\n",
    "    for repeat in range(repeats):\n",
    "        rmses = []\n",
    "        for window in windows:\n",
    "            rmse = get_rmse_for_window(directory, window, tvgamma=1, N_windows=N_windows)\n",
    "            rmses.append(rmse)\n",
    "        repeated_rmses.append(rmses)\n",
    "    return np.mean(repeated_rmses, axis=0)\n",
    "\n",
    "nonoise_rmses_all = get_rmses_for_window_repeated_nonoise('all', repeats=10)"
   ]
  },
  {
   "cell_type": "code",
   "execution_count": null,
   "metadata": {},
   "outputs": [],
   "source": []
  },
  {
   "cell_type": "code",
   "execution_count": null,
   "metadata": {},
   "outputs": [],
   "source": []
  },
  {
   "cell_type": "code",
   "execution_count": null,
   "metadata": {},
   "outputs": [],
   "source": []
  },
  {
   "cell_type": "code",
   "execution_count": 25,
   "metadata": {},
   "outputs": [],
   "source": [
    "def plot_on_ax(axname, show=['left', 'bottom']):\n",
    "\n",
    "    layout = fifi.svg_to_axes.FigureLayout('../velocity_estimats_rmse_resolution.svg', autogenlayers=True, make_mplfigures=True, hide_layers=[])\n",
    "    ax = layout.axes[(axname, axname)]\n",
    "\n",
    "    ax.plot(windows, noisy_rmses_all, '--', color='green')\n",
    "    ax.plot(windows, nonoise_rmses_all, '--', color='orange')\n",
    "\n",
    "    ax.set_xscale('log')\n",
    "    #ax.set_yscale('log')\n",
    "\n",
    "    ax.set_ylim(0.06, 0.14)\n",
    "    ax.set_xlim(10**-2, 10**2)\n",
    "    \n",
    "    if 'bottom' in show:\n",
    "        fifi.mpl_functions.adjust_spines(ax, show, xticks=[10**-2, 10**-1, 10**0, 10**1, 10**2],\n",
    "                                                                 yticks=[0.06, 0.08, 0.1, 0.12, 0.14])\n",
    "    else:\n",
    "        fifi.mpl_functions.adjust_spines(ax, show, yticks=[0.06, 0.08, 0.1, 0.12, 0.14])\n",
    "    ax.set_ylim(0.06, 0.14)\n",
    "    ax.set_xlim(10**-2, 10**2)\n",
    "\n",
    "    if 'bottom' in show:\n",
    "        ax.tick_params(which='minor', direction='in')\n",
    "    else:\n",
    "        ax.set_xticks([], minor=True)\n",
    "\n",
    "    fifi.mpl_functions.set_fontsize(ax, 6)\n",
    "\n",
    "    layout.append_figure_to_layer(layout.figures[axname], axname, cleartarget=True)\n",
    "    layout.write_svg('../velocity_estimats_rmse_resolution.svg')"
   ]
  },
  {
   "cell_type": "code",
   "execution_count": 26,
   "metadata": {},
   "outputs": [
    {
     "data": {
      "image/png": "[encoded data removed]",
      "text/plain": [
       "<Figure size 270x576 with 1 Axes>"
      ]
     },
     "metadata": {},
     "output_type": "display_data"
    },
    {
     "data": {
      "image/png": "[encoded data removed]",
      "text/plain": [
       "<Figure size 270x576 with 1 Axes>"
      ]
     },
     "metadata": {},
     "output_type": "display_data"
    },
    {
     "data": {
      "image/png": "[encoded data removed]",
      "text/plain": [
       "<Figure size 270x576 with 1 Axes>"
      ]
     },
     "metadata": {},
     "output_type": "display_data"
    }
   ],
   "source": [
    "plot_on_ax('rmse_p1', show=['left'])"
   ]
  },
  {
   "cell_type": "code",
   "execution_count": 27,
   "metadata": {},
   "outputs": [
    {
     "data": {
      "image/png": "[encoded data removed]",
      "text/plain": [
       "<Figure size 270x576 with 1 Axes>"
      ]
     },
     "metadata": {},
     "output_type": "display_data"
    },
    {
     "data": {
      "image/png": "[encoded data removed]",
      "text/plain": [
       "<Figure size 270x576 with 1 Axes>"
      ]
     },
     "metadata": {},
     "output_type": "display_data"
    },
    {
     "data": {
      "image/png": "[encoded data removed]",
      "text/plain": [
       "<Figure size 270x576 with 1 Axes>"
      ]
     },
     "metadata": {},
     "output_type": "display_data"
    }
   ],
   "source": [
    "plot_on_ax('rmse_1', show=['left'])"
   ]
  },
  {
   "cell_type": "code",
   "execution_count": 28,
   "metadata": {},
   "outputs": [
    {
     "data": {
      "image/png": "[encoded data removed]",
      "text/plain": [
       "<Figure size 270x576 with 1 Axes>"
      ]
     },
     "metadata": {},
     "output_type": "display_data"
    },
    {
     "data": {
      "image/png": "[encoded data removed]",
      "text/plain": [
       "<Figure size 270x576 with 1 Axes>"
      ]
     },
     "metadata": {},
     "output_type": "display_data"
    },
    {
     "data": {
      "image/png": "[encoded data removed]",
      "text/plain": [
       "<Figure size 270x576 with 1 Axes>"
      ]
     },
     "metadata": {},
     "output_type": "display_data"
    }
   ],
   "source": [
    "plot_on_ax('rmse_2')"
   ]
  },
  {
   "cell_type": "code",
   "execution_count": null,
   "metadata": {},
   "outputs": [],
   "source": []
  },
  {
   "cell_type": "code",
   "execution_count": 20,
   "metadata": {},
   "outputs": [],
   "source": [
    "def plot_on_ax(axname, show=['left', 'bottom']):\n",
    "\n",
    "    layout = fifi.svg_to_axes.FigureLayout('../velocity_estimats_rmse.svg', autogenlayers=True, make_mplfigures=True, hide_layers=[])\n",
    "    ax = layout.axes[(axname, axname)]\n",
    "\n",
    "    ax.plot(windows, noisy_rmses_all, '--', color='green')\n",
    "    ax.plot(windows, nonoise_rmses_all, '--', color='orange')\n",
    "\n",
    "    ax.set_xscale('log')\n",
    "    #ax.set_yscale('log')\n",
    "\n",
    "    ax.set_ylim(0.06, 0.14)\n",
    "    ax.set_xlim(10**-2, 10**2)\n",
    "    \n",
    "    if 'bottom' in show:\n",
    "        fifi.mpl_functions.adjust_spines(ax, show, xticks=[10**-2, 10**-1, 10**0, 10**1, 10**2],\n",
    "                                                                 yticks=[0.06, 0.08, 0.1, 0.12, 0.14])\n",
    "    else:\n",
    "        fifi.mpl_functions.adjust_spines(ax, show, yticks=[0.06, 0.08, 0.1, 0.12, 0.14])\n",
    "    ax.set_ylim(0.06, 0.14)\n",
    "    ax.set_xlim(10**-2, 10**2)\n",
    "\n",
    "    if 'bottom' in show:\n",
    "        ax.tick_params(which='minor', direction='in')\n",
    "    else:\n",
    "        ax.set_xticks([], minor=True)\n",
    "\n",
    "    fifi.mpl_functions.set_fontsize(ax, 6)\n",
    "\n",
    "    layout.append_figure_to_layer(layout.figures[axname], axname, cleartarget=True)\n",
    "    layout.write_svg('../velocity_estimats_rmse.svg')"
   ]
  },
  {
   "cell_type": "code",
   "execution_count": 21,
   "metadata": {},
   "outputs": [
    {
     "data": {
      "image/png": "[encoded data removed]",
      "text/plain": [
       "<Figure size 270x576 with 1 Axes>"
      ]
     },
     "metadata": {},
     "output_type": "display_data"
    },
    {
     "data": {
      "image/png": "[encoded data removed]",
      "text/plain": [
       "<Figure size 270x576 with 1 Axes>"
      ]
     },
     "metadata": {},
     "output_type": "display_data"
    }
   ],
   "source": [
    "plot_on_ax('rmse_1', show=['left'])"
   ]
  },
  {
   "cell_type": "code",
   "execution_count": null,
   "metadata": {},
   "outputs": [],
   "source": []
  }
 ],
 "metadata": {
  "kernelspec": {
   "display_name": "Python 3",
   "language": "python",
   "name": "python3"
  },
  "language_info": {
   "codemirror_mode": {
    "name": "ipython",
    "version": 3
   },
   "file_extension": ".py",
   "mimetype": "text/x-python",
   "name": "python",
   "nbconvert_exporter": "python",
   "pygments_lexer": "ipython3",
   "version": "3.5.2"
  }
 },
 "nbformat": 4,
 "nbformat_minor": 2
}
