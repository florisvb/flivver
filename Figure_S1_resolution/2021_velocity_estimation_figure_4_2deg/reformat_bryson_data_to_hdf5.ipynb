{
 "cells": [
  {
   "cell_type": "code",
   "execution_count": 1,
   "metadata": {},
   "outputs": [],
   "source": [
    "import cv2"
   ]
  },
  {
   "cell_type": "code",
   "execution_count": 2,
   "metadata": {},
   "outputs": [
    {
     "name": "stderr",
     "output_type": "stream",
     "text": [
      "/home/caveman/BMD2/lib/python3.5/site-packages/tensorflow/python/framework/dtypes.py:523: FutureWarning: Passing (type, 1) or '1type' as a synonym of type is deprecated; in a future version of numpy, it will be understood as (type, (1,)) / '(1,)type'.\n",
      "  _np_qint8 = np.dtype([(\"qint8\", np.int8, 1)])\n",
      "/home/caveman/BMD2/lib/python3.5/site-packages/tensorflow/python/framework/dtypes.py:524: FutureWarning: Passing (type, 1) or '1type' as a synonym of type is deprecated; in a future version of numpy, it will be understood as (type, (1,)) / '(1,)type'.\n",
      "  _np_quint8 = np.dtype([(\"quint8\", np.uint8, 1)])\n",
      "/home/caveman/BMD2/lib/python3.5/site-packages/tensorflow/python/framework/dtypes.py:525: FutureWarning: Passing (type, 1) or '1type' as a synonym of type is deprecated; in a future version of numpy, it will be understood as (type, (1,)) / '(1,)type'.\n",
      "  _np_qint16 = np.dtype([(\"qint16\", np.int16, 1)])\n",
      "/home/caveman/BMD2/lib/python3.5/site-packages/tensorflow/python/framework/dtypes.py:526: FutureWarning: Passing (type, 1) or '1type' as a synonym of type is deprecated; in a future version of numpy, it will be understood as (type, (1,)) / '(1,)type'.\n",
      "  _np_quint16 = np.dtype([(\"quint16\", np.uint16, 1)])\n",
      "/home/caveman/BMD2/lib/python3.5/site-packages/tensorflow/python/framework/dtypes.py:527: FutureWarning: Passing (type, 1) or '1type' as a synonym of type is deprecated; in a future version of numpy, it will be understood as (type, (1,)) / '(1,)type'.\n",
      "  _np_qint32 = np.dtype([(\"qint32\", np.int32, 1)])\n",
      "/home/caveman/BMD2/lib/python3.5/site-packages/tensorflow/python/framework/dtypes.py:532: FutureWarning: Passing (type, 1) or '1type' as a synonym of type is deprecated; in a future version of numpy, it will be understood as (type, (1,)) / '(1,)type'.\n",
      "  np_resource = np.dtype([(\"resource\", np.ubyte, 1)])\n"
     ]
    }
   ],
   "source": [
    "import numpy as np\n",
    "import matplotlib.pyplot as plt\n",
    "import os\n",
    "\n",
    "import pickle\n",
    "import pandas\n",
    "\n",
    "import pynumdiff"
   ]
  },
  {
   "cell_type": "code",
   "execution_count": 48,
   "metadata": {},
   "outputs": [],
   "source": [
    "directory = '/media/caveman/Vorchard11/Downloads/downsampled/2deg'"
   ]
  },
  {
   "cell_type": "code",
   "execution_count": 4,
   "metadata": {},
   "outputs": [],
   "source": [
    "v_over_d = np.load('/media/caveman/Vorchard11/Downloads/downsampled/2deg/2_deg.npy')"
   ]
  },
  {
   "cell_type": "code",
   "execution_count": 5,
   "metadata": {},
   "outputs": [],
   "source": [
    "K = [[615.8287353515625, 0.0, 320.0995178222656],\n",
    "     [0.0, 615.9053344726562, 245.37171936035156],\n",
    "     [0.0, 0.0, 1.0]]\n",
    "fov_x = np.arctan(320./K[0][0])*2\n",
    "fov_y = np.arctan(240./K[1][1])*2"
   ]
  },
  {
   "cell_type": "code",
   "execution_count": 6,
   "metadata": {},
   "outputs": [],
   "source": [
    "shape = v_over_d.shape[1:3]\n",
    "\n",
    "alphas_x = np.linspace(-fov_x/2, fov_x/2, v_over_d.shape[2])\n",
    "alphas_y = np.linspace(-fov_y/2, fov_y/2, v_over_d.shape[1])\n",
    "\n",
    "alphas_x = np.vstack([alphas_x]*shape[0])\n",
    "alphas_y = np.vstack([alphas_y]*shape[1]).T"
   ]
  },
  {
   "cell_type": "code",
   "execution_count": 7,
   "metadata": {},
   "outputs": [
    {
     "data": {
      "text/plain": [
       "[<matplotlib.lines.Line2D at 0x7f00c8587e80>]"
      ]
     },
     "execution_count": 7,
     "metadata": {},
     "output_type": "execute_result"
    },
    {
     "data": {
      "image/png": "[encoded data removed]",
      "text/plain": [
       "<Figure size 432x288 with 1 Axes>"
      ]
     },
     "metadata": {},
     "output_type": "display_data"
    }
   ],
   "source": [
    "plt.plot(alphas_x[0,:]*180/np.pi)"
   ]
  },
  {
   "cell_type": "code",
   "execution_count": 8,
   "metadata": {},
   "outputs": [],
   "source": [
    "alphas_epi = np.sign(alphas_x)*np.sqrt(alphas_x**2 + alphas_y**2)\n",
    "betas = np.arctan2(alphas_x, alphas_y)"
   ]
  },
  {
   "cell_type": "code",
   "execution_count": 9,
   "metadata": {},
   "outputs": [],
   "source": [
    "alphadot_x = v_over_d[:,:,:,0]*np.cos(alphas_x)*np.sin(alphas_x) # go back to alphadots\n",
    "alphadot_x[np.where(np.isnan(alphadot_x))] = 0"
   ]
  },
  {
   "cell_type": "code",
   "execution_count": 10,
   "metadata": {},
   "outputs": [],
   "source": [
    "alphadot_y = v_over_d[:,:,:,1]*np.cos(alphas_y)*np.sin(alphas_y)\n",
    "alphadot_y[np.where(np.isnan(alphadot_y))] = 0"
   ]
  },
  {
   "cell_type": "code",
   "execution_count": 11,
   "metadata": {},
   "outputs": [],
   "source": [
    "del(v_over_d)"
   ]
  },
  {
   "cell_type": "code",
   "execution_count": null,
   "metadata": {},
   "outputs": [],
   "source": []
  },
  {
   "cell_type": "code",
   "execution_count": 12,
   "metadata": {},
   "outputs": [],
   "source": [
    "def calculate_alphadot_sign(frame, alphadot_x, alphadot_y):\n",
    "    return np.nanmedian(np.sign(np.gradient(np.dstack((alphadot_x[frame], alphadot_y[frame])))), axis=0)"
   ]
  },
  {
   "cell_type": "code",
   "execution_count": 13,
   "metadata": {},
   "outputs": [
    {
     "name": "stderr",
     "output_type": "stream",
     "text": [
      "/home/caveman/BMD2/lib/python3.5/site-packages/numpy/lib/function_base.py:1063: RuntimeWarning: invalid value encountered in subtract\n",
      "  out[tuple(slice1)] = (f[tuple(slice4)] - f[tuple(slice2)]) / (2. * ax_dx)\n",
      "/home/caveman/BMD2/lib/python3.5/site-packages/numpy/lib/function_base.py:1084: RuntimeWarning: invalid value encountered in subtract\n",
      "  out[tuple(slice1)] = (f[tuple(slice2)] - f[tuple(slice3)]) / dx_0\n",
      "/home/caveman/BMD2/lib/python3.5/site-packages/numpy/lib/function_base.py:1091: RuntimeWarning: invalid value encountered in subtract\n",
      "  out[tuple(slice1)] = (f[tuple(slice2)] - f[tuple(slice3)]) / dx_n\n"
     ]
    }
   ],
   "source": [
    "alphadot_sign = [calculate_alphadot_sign(frame, alphadot_x, alphadot_y) for frame in range(alphadot_x.shape[0])]"
   ]
  },
  {
   "cell_type": "code",
   "execution_count": null,
   "metadata": {},
   "outputs": [],
   "source": []
  },
  {
   "cell_type": "code",
   "execution_count": 35,
   "metadata": {},
   "outputs": [],
   "source": [
    "degrees = 2"
   ]
  },
  {
   "cell_type": "code",
   "execution_count": 36,
   "metadata": {},
   "outputs": [],
   "source": [
    "scaling = (alphas_x[0,-1] - alphas_x[0,0]) / (degrees*np.pi/180.)"
   ]
  },
  {
   "cell_type": "code",
   "execution_count": 37,
   "metadata": {},
   "outputs": [],
   "source": [
    "new_shape = (int(alphadot_sign[0].shape[1]/scaling), \n",
    "             int(alphadot_sign[0].shape[0]/scaling))"
   ]
  },
  {
   "cell_type": "code",
   "execution_count": 38,
   "metadata": {},
   "outputs": [],
   "source": [
    "def resize(a):\n",
    "    return cv2.resize(a, new_shape)"
   ]
  },
  {
   "cell_type": "code",
   "execution_count": 39,
   "metadata": {},
   "outputs": [
    {
     "data": {
      "text/plain": [
       "<matplotlib.image.AxesImage at 0x7f034e23c390>"
      ]
     },
     "execution_count": 39,
     "metadata": {},
     "output_type": "execute_result"
    },
    {
     "data": {
      "image/png": "[encoded data removed]",
      "text/plain": [
       "<Figure size 432x288 with 1 Axes>"
      ]
     },
     "metadata": {},
     "output_type": "display_data"
    }
   ],
   "source": [
    "plt.imshow(alphadot_x[300, :,:])"
   ]
  },
  {
   "cell_type": "code",
   "execution_count": 40,
   "metadata": {},
   "outputs": [
    {
     "data": {
      "text/plain": [
       "<matplotlib.image.AxesImage at 0x7f034e1f6828>"
      ]
     },
     "execution_count": 40,
     "metadata": {},
     "output_type": "execute_result"
    },
    {
     "data": {
      "image/png": "[encoded data removed]",
      "text/plain": [
       "<Figure size 432x288 with 1 Axes>"
      ]
     },
     "metadata": {},
     "output_type": "display_data"
    }
   ],
   "source": [
    "plt.imshow(resize(alphadot_x[300, :,:]))"
   ]
  },
  {
   "cell_type": "code",
   "execution_count": null,
   "metadata": {},
   "outputs": [],
   "source": []
  },
  {
   "cell_type": "code",
   "execution_count": 43,
   "metadata": {},
   "outputs": [],
   "source": [
    "dfs = []\n",
    "keys = []\n",
    "\n",
    "for frame in range(alphadot_x.shape[0]):\n",
    "    df = pandas.DataFrame(resize(alphadot_x[frame]))\n",
    "    dfs.append(df)\n",
    "    keys.append(frame)\n",
    "\n",
    "df = pandas.concat(dfs, keys=keys)\n",
    "df.to_hdf(os.path.join(directory, 'alphadot_x.hdf'), 'alphadot_x')"
   ]
  },
  {
   "cell_type": "code",
   "execution_count": 44,
   "metadata": {},
   "outputs": [],
   "source": [
    "dfs = []\n",
    "keys = []\n",
    "\n",
    "for frame in range(alphadot_y.shape[0]):\n",
    "    df = pandas.DataFrame(resize(alphadot_y[frame]))\n",
    "    dfs.append(df)\n",
    "    keys.append(frame)\n",
    "\n",
    "df = pandas.concat(dfs, keys=keys)\n",
    "df.to_hdf(os.path.join(directory, 'alphadot_y.hdf'), 'alphadot_y')"
   ]
  },
  {
   "cell_type": "code",
   "execution_count": null,
   "metadata": {},
   "outputs": [],
   "source": []
  },
  {
   "cell_type": "code",
   "execution_count": 45,
   "metadata": {},
   "outputs": [
    {
     "name": "stderr",
     "output_type": "stream",
     "text": [
      "/home/caveman/BMD2/lib/python3.5/site-packages/ipykernel_launcher.py:7: RuntimeWarning: invalid value encountered in multiply\n",
      "  import sys\n"
     ]
    }
   ],
   "source": [
    "dfs = []\n",
    "keys = []\n",
    "\n",
    "for frame in range(alphadot_x.shape[0]):\n",
    "    alphadot_abs = np.linalg.norm( [np.abs(alphadot_x[frame,:,:]), np.abs(alphadot_y[frame,:,:])], axis=0 )\n",
    "    alphadot_sign = np.nanmean([np.sign(alphadot_x[frame,:,:]*alphas_x), np.sign(alphadot_y[frame,:,:]*alphas_y)], axis=0)\n",
    "    alphadot_signed = alphadot_abs*alphadot_sign\n",
    "    alphadot_signed[np.where(np.isinf(alphadot_signed))] = np.nan\n",
    "    df = pandas.DataFrame(resize(alphadot_signed))\n",
    "    dfs.append(df)\n",
    "    keys.append(frame)\n",
    "\n",
    "df = pandas.concat(dfs, keys=keys)\n",
    "df.to_hdf(os.path.join(directory, 'alphadot_signed.hdf'), 'alphadot_signed')"
   ]
  },
  {
   "cell_type": "code",
   "execution_count": 46,
   "metadata": {},
   "outputs": [],
   "source": [
    "dfs = [pandas.DataFrame(resize(alphas_x)), \n",
    "       pandas.DataFrame(resize(alphas_y)), \n",
    "       pandas.DataFrame(resize(alphas_epi))]\n",
    "keys = ['alphas_x', 'alphas_y', 'alphas_epi']\n",
    "\n",
    "df = pandas.concat(dfs, keys=keys)\n",
    "df.to_hdf(os.path.join(directory, 'alphadot_meta.hdf'), 'alphadot_meta')"
   ]
  },
  {
   "cell_type": "code",
   "execution_count": null,
   "metadata": {},
   "outputs": [],
   "source": []
  },
  {
   "cell_type": "markdown",
   "metadata": {},
   "source": [
    "# velocity and acceleration"
   ]
  },
  {
   "cell_type": "code",
   "execution_count": 49,
   "metadata": {},
   "outputs": [],
   "source": [
    "initial_idx = 0\n",
    "vel = np.load('/home/caveman/Downloads/full_data/gt_velocity.npy')\n",
    "vel = vel[initial_idx+1+2:-3]"
   ]
  },
  {
   "cell_type": "code",
   "execution_count": 50,
   "metadata": {},
   "outputs": [],
   "source": [
    "accel = np.load('/home/caveman/Downloads/full_data/1d_accel.npy')\n",
    "accel = accel[initial_idx+1+2:-3]"
   ]
  },
  {
   "cell_type": "code",
   "execution_count": 51,
   "metadata": {},
   "outputs": [
    {
     "name": "stderr",
     "output_type": "stream",
     "text": [
      "/home/caveman/BMD2/lib/python3.5/site-packages/scipy-1.1.0-py3.5-linux-x86_64.egg/scipy/signal/_arraytools.py:45: FutureWarning: Using a non-tuple sequence for multidimensional indexing is deprecated; use `arr[tuple(seq)]` instead of `arr[seq]`. In the future this will be interpreted as an array index, `arr[np.array(seq)]`, which will result either in an error or a different result.\n",
      "  b = a[a_slice]\n"
     ]
    }
   ],
   "source": [
    "dt = 0.033333333\n",
    "t = np.linspace(0, dt*len(accel), len(accel))\n",
    "\n",
    "dt_alphadot = 0.2\n",
    "scaling = dt_alphadot/dt\n",
    "\n",
    "# smooth accel\n",
    "params = [2, 0.04]\n",
    "a_smooth_1, j_hat = pynumdiff.smooth_finite_difference.butterdiff(accel, dt, params)\n",
    "a_smooth_2, _ = pynumdiff.kalman_smooth.constant_acceleration(accel, dt, [1e-2, 1e-2])"
   ]
  },
  {
   "cell_type": "code",
   "execution_count": 52,
   "metadata": {},
   "outputs": [],
   "source": [
    "dfs = [pandas.DataFrame(vel), \n",
    "       pandas.DataFrame(accel), \n",
    "       pandas.DataFrame(a_smooth_1),\n",
    "       pandas.DataFrame(a_smooth_2),\n",
    "       pandas.DataFrame(t),\n",
    "       pandas.DataFrame([dt]),\n",
    "       pandas.DataFrame([scaling]),\n",
    "       pandas.DataFrame(alphadot_sign)]\n",
    "keys = ['velocity_true', 'accel_measured', 'accel_smooth_1', \n",
    "        'accel_smooth_2', 'time', 'dt', 'scaling', 'sign_alphadot']\n",
    "\n",
    "df = pandas.concat(dfs, keys=keys)\n",
    "df.to_hdf(os.path.join(directory, 'vel_accel_time.hdf'), 'vel_accel_time')"
   ]
  },
  {
   "cell_type": "code",
   "execution_count": null,
   "metadata": {},
   "outputs": [],
   "source": []
  },
  {
   "cell_type": "code",
   "execution_count": null,
   "metadata": {},
   "outputs": [],
   "source": []
  },
  {
   "cell_type": "code",
   "execution_count": null,
   "metadata": {},
   "outputs": [],
   "source": []
  }
 ],
 "metadata": {
  "kernelspec": {
   "display_name": "Python 3",
   "language": "python",
   "name": "python3"
  },
  "language_info": {
   "codemirror_mode": {
    "name": "ipython",
    "version": 3
   },
   "file_extension": ".py",
   "mimetype": "text/x-python",
   "name": "python",
   "nbconvert_exporter": "python",
   "pygments_lexer": "ipython3",
   "version": "3.5.2"
  }
 },
 "nbformat": 4,
 "nbformat_minor": 2
}
